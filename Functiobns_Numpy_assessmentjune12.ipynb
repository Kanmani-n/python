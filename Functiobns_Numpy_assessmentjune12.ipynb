{
 "cells": [
  {
   "cell_type": "code",
   "execution_count": null,
   "id": "37361eff-840d-4cd6-895f-9114c74dc769",
   "metadata": {},
   "outputs": [],
   "source": [
    "#1. Write a program to reverse a string. Using function and loops "
   ]
  },
  {
   "cell_type": "code",
   "execution_count": 76,
   "id": "956f79de-6ea0-44d1-9952-3fcf1e9a67d5",
   "metadata": {},
   "outputs": [],
   "source": [
    "def reverse(r): # defining function and argument\n",
    "  a=\"\"          #creating empty string\n",
    "  for i in r:   #for loop\n",
    "      a=i+a     #operation\n",
    "      print(a)\n",
    "  return a"
   ]
  },
  {
   "cell_type": "code",
   "execution_count": 77,
   "id": "8d2f9b61-39ec-41d6-924f-5f261c2af70c",
   "metadata": {},
   "outputs": [
    {
     "name": "stdout",
     "output_type": "stream",
     "text": [
      "k\n",
      "ak\n",
      "nak\n",
      "mnak\n",
      "amnak\n",
      "namnak\n",
      "inamnak\n"
     ]
    },
    {
     "data": {
      "text/plain": [
       "'inamnak'"
      ]
     },
     "execution_count": 77,
     "metadata": {},
     "output_type": "execute_result"
    }
   ],
   "source": [
    "reverse(\"kanmani\")"
   ]
  },
  {
   "cell_type": "code",
   "execution_count": 12,
   "id": "30065f64-9fa4-4d5d-a26a-907e4e9a7a91",
   "metadata": {},
   "outputs": [],
   "source": [
    "#2.Write a program to check if a string is a palindrome."
   ]
  },
  {
   "cell_type": "code",
   "execution_count": 13,
   "id": "72704c98-9ab5-417a-afeb-ced38a82e923",
   "metadata": {},
   "outputs": [],
   "source": [
    "def palindrome(str):\n",
    "    if str == str[::-1]:\n",
    "        print(\"Palindrome\")\n",
    "    else:\n",
    "        print(\"not a palindrome\")\n",
    "   \n"
   ]
  },
  {
   "cell_type": "markdown",
   "id": "c94dec2b-4a6d-40b9-b3c6-b0b77fd15a2a",
   "metadata": {},
   "source": [
    "palindrome()"
   ]
  },
  {
   "cell_type": "code",
   "execution_count": 14,
   "id": "26bbfd1c-a3da-4edf-9d23-52518fb0341e",
   "metadata": {},
   "outputs": [
    {
     "name": "stdout",
     "output_type": "stream",
     "text": [
      "Palindrome\n"
     ]
    }
   ],
   "source": [
    "palindrome(\"madam\")"
   ]
  },
  {
   "cell_type": "code",
   "execution_count": 18,
   "id": "45f68383-faca-4b62-94ae-d996146a46ef",
   "metadata": {},
   "outputs": [],
   "source": [
    "def fibo(n):\n",
    "  if n == 1:\n",
    "     print(0)\n",
    "     return\n",
    "  f=[0,1]\n",
    "  for i in range(2,n):\n",
    "    t=f[-1]+f[-2]\n",
    "    f.append(t)\n",
    "  print(f)\n"
   ]
  },
  {
   "cell_type": "code",
   "execution_count": 21,
   "id": "541b6bd1-91c8-426e-b426-c06a0c303cca",
   "metadata": {},
   "outputs": [
    {
     "name": "stdout",
     "output_type": "stream",
     "text": [
      "[0, 1, 1]\n"
     ]
    }
   ],
   "source": [
    "fibo(3)"
   ]
  },
  {
   "cell_type": "code",
   "execution_count": null,
   "id": "fe6c4370-a35d-47d9-8f12-5c836b1d8d94",
   "metadata": {},
   "outputs": [],
   "source": [
    "#4.Write a program to find all prime numbers up to n."
   ]
  },
  {
   "cell_type": "code",
   "execution_count": 1,
   "id": "5a3aaa5a-d0e7-4e89-9172-7f627290dd09",
   "metadata": {},
   "outputs": [],
   "source": [
    "def prime(x):\n",
    "    for i in range(0,x+1):  # to find the values from 0 to 7 x+1 is given \n",
    "        if i>1:\n",
    "           for j in range(2,i):\n",
    "               if(i%j)==0:\n",
    "                  break\n",
    "           else:\n",
    "              print(i)\n",
    "            "
   ]
  },
  {
   "cell_type": "code",
   "execution_count": 3,
   "id": "62ceee83-7899-41f8-a2fc-3a7f2ccff2d9",
   "metadata": {},
   "outputs": [
    {
     "name": "stdout",
     "output_type": "stream",
     "text": [
      "2\n",
      "3\n",
      "5\n"
     ]
    }
   ],
   "source": [
    "prime(5)"
   ]
  },
  {
   "cell_type": "code",
   "execution_count": null,
   "id": "6bf9e8d1-21b4-42b7-b950-f189caa0b226",
   "metadata": {},
   "outputs": [],
   "source": [
    "#5.Write a program to remove duplicates from a list. Without set data structure\n"
   ]
  },
  {
   "cell_type": "code",
   "execution_count": 4,
   "id": "2f3b9f05-3902-46eb-a79d-f0ad27953fca",
   "metadata": {},
   "outputs": [],
   "source": [
    "def list(d):\n",
    "    e=[]\n",
    "    for i in d:\n",
    "        if i not in e:\n",
    "            e.append(i)\n",
    "    return e  "
   ]
  },
  {
   "cell_type": "code",
   "execution_count": 5,
   "id": "1ef35930-08e8-41d7-9a85-a7cd06357a0d",
   "metadata": {},
   "outputs": [
    {
     "data": {
      "text/plain": [
       "[1, 2.0, 3, 4, 5, 6]"
      ]
     },
     "execution_count": 5,
     "metadata": {},
     "output_type": "execute_result"
    }
   ],
   "source": [
    "list([1, 2.0, 2.0, 3, 4, 5 , 6 ])"
   ]
  },
  {
   "cell_type": "code",
   "execution_count": 3,
   "id": "5d2aa453-ebea-4db1-a6d0-d3aa406df684",
   "metadata": {},
   "outputs": [],
   "source": [
    "#6.Create a program to find the second largest number in a list"
   ]
  },
  {
   "cell_type": "code",
   "execution_count": 11,
   "id": "8c447659-c1cd-407f-b0b3-8642e26b7e75",
   "metadata": {},
   "outputs": [],
   "source": [
    "def large(s):\n",
    "    r=list(set(s))\n",
    "    r.sort(reverse=True)\n",
    "    return r[1]\n"
   ]
  },
  {
   "cell_type": "code",
   "execution_count": 13,
   "id": "e1449462-5815-453d-8d02-956700cd974c",
   "metadata": {},
   "outputs": [
    {
     "data": {
      "text/plain": [
       "87"
      ]
     },
     "execution_count": 13,
     "metadata": {},
     "output_type": "execute_result"
    }
   ],
   "source": [
    "large([34,45,2,67,2,45,99,67,87])"
   ]
  },
  {
   "cell_type": "code",
   "execution_count": null,
   "id": "55c4b5d1-d295-4dab-b33d-e68b4a1a6098",
   "metadata": {},
   "outputs": [],
   "source": [
    "#.Write a program to read and write to files with error handling.\n"
   ]
  },
  {
   "cell_type": "code",
   "execution_count": 75,
   "id": "b3c62332-fe32-4038-9c02-531756f04a92",
   "metadata": {},
   "outputs": [],
   "source": [
    "def handle():\n",
    "    try:\n",
    "      with open('assessment.txt','w') as file:\n",
    "          content = f1.write(\"good morning\")\n",
    "          print(content)\n",
    "          f1.close()  \n",
    "      f2 = open('assessment.txt','r')\n",
    "      f2.read()\n",
    "    except:\n",
    "        print(f\"Error:The file  does not exist.\")\n",
    "        return"
   ]
  },
  {
   "cell_type": "code",
   "execution_count": 74,
   "id": "ffb98766-25e7-4c68-be18-d8a83bc0db53",
   "metadata": {},
   "outputs": [
    {
     "name": "stdout",
     "output_type": "stream",
     "text": [
      "Error:The file  does not exist.\n"
     ]
    }
   ],
   "source": [
    "handle()"
   ]
  },
  {
   "cell_type": "code",
   "execution_count": 51,
   "id": "eee01e4c-0dc8-471d-ad78-32d80a129da2",
   "metadata": {},
   "outputs": [],
   "source": [
    "#.Create a 3D NumPy array of shape (2, 3, 4). Convert it into a 2D array and then flatten it into a 1D array."
   ]
  },
  {
   "cell_type": "code",
   "execution_count": 52,
   "id": "63c15462-46d5-42e8-8787-282a242567fd",
   "metadata": {},
   "outputs": [],
   "source": [
    "import numpy as np"
   ]
  },
  {
   "cell_type": "code",
   "execution_count": 4,
   "id": "88263415-141a-45a1-8ab5-2e66bc04bdea",
   "metadata": {},
   "outputs": [
    {
     "name": "stdout",
     "output_type": "stream",
     "text": [
      "Requirement already satisfied: numpy in c:\\users\\netha\\appdata\\local\\programs\\python\\python313\\lib\\site-packages (2.3.0)\n",
      "Note: you may need to restart the kernel to use updated packages.\n"
     ]
    }
   ],
   "source": [
    "pip install numpy"
   ]
  },
  {
   "cell_type": "code",
   "execution_count": 20,
   "id": "8a7ea5a9-1ce5-4f35-be5a-1b61790dec94",
   "metadata": {},
   "outputs": [],
   "source": [
    "d3=np.array([[[2,1,4,5],[2,3,4,7],[3,4,9,3]],[[5,6,7,2],[5,7,4,2],[8,9,6,4]]]) #created 3D"
   ]
  },
  {
   "cell_type": "code",
   "execution_count": 19,
   "id": "4a5f9ac8-f9c1-4af2-a8ae-e3e2f4ad60f3",
   "metadata": {},
   "outputs": [
    {
     "data": {
      "text/plain": [
       "array([[[2, 1, 4, 5],\n",
       "        [2, 3, 4, 7],\n",
       "        [3, 4, 9, 3]],\n",
       "\n",
       "       [[5, 6, 7, 2],\n",
       "        [5, 7, 4, 2],\n",
       "        [8, 9, 6, 4]]])"
      ]
     },
     "execution_count": 19,
     "metadata": {},
     "output_type": "execute_result"
    }
   ],
   "source": [
    "d3"
   ]
  },
  {
   "cell_type": "code",
   "execution_count": 21,
   "id": "8d409665-c020-4bb3-98ef-7476f236aea0",
   "metadata": {},
   "outputs": [
    {
     "data": {
      "text/plain": [
       "3"
      ]
     },
     "execution_count": 21,
     "metadata": {},
     "output_type": "execute_result"
    }
   ],
   "source": [
    "d3.ndim"
   ]
  },
  {
   "cell_type": "code",
   "execution_count": 22,
   "id": "7b8c4f39-02cb-45db-8643-872ec7b7553d",
   "metadata": {},
   "outputs": [
    {
     "data": {
      "text/plain": [
       "(2, 3, 4)"
      ]
     },
     "execution_count": 22,
     "metadata": {},
     "output_type": "execute_result"
    }
   ],
   "source": [
    "d3.shape"
   ]
  },
  {
   "cell_type": "code",
   "execution_count": 32,
   "id": "26af6283-a87c-4150-a12b-f203406f8428",
   "metadata": {},
   "outputs": [],
   "source": [
    "d2 = d3.reshape(6,4)  #changed to 2 D"
   ]
  },
  {
   "cell_type": "code",
   "execution_count": 33,
   "id": "a088d77d-5b1d-4454-9ab0-66895197f691",
   "metadata": {},
   "outputs": [
    {
     "data": {
      "text/plain": [
       "array([[2, 1, 4, 5],\n",
       "       [2, 3, 4, 7],\n",
       "       [3, 4, 9, 3],\n",
       "       [5, 6, 7, 2],\n",
       "       [5, 7, 4, 2],\n",
       "       [8, 9, 6, 4]])"
      ]
     },
     "execution_count": 33,
     "metadata": {},
     "output_type": "execute_result"
    }
   ],
   "source": [
    "d2"
   ]
  },
  {
   "cell_type": "code",
   "execution_count": 34,
   "id": "5c0762fc-c1ae-47ab-bc12-48cc66273e95",
   "metadata": {},
   "outputs": [
    {
     "data": {
      "text/plain": [
       "(6, 4)"
      ]
     },
     "execution_count": 34,
     "metadata": {},
     "output_type": "execute_result"
    }
   ],
   "source": [
    "d2.shape"
   ]
  },
  {
   "cell_type": "code",
   "execution_count": 26,
   "id": "f9b5cf1e-6086-46f1-978c-4d8d74a30d68",
   "metadata": {},
   "outputs": [
    {
     "data": {
      "text/plain": [
       "2"
      ]
     },
     "execution_count": 26,
     "metadata": {},
     "output_type": "execute_result"
    }
   ],
   "source": [
    "d2.ndim"
   ]
  },
  {
   "cell_type": "code",
   "execution_count": 35,
   "id": "aa16d68d-82c6-43c2-9390-46550bbe1510",
   "metadata": {},
   "outputs": [],
   "source": [
    "d1=d2.flatten()  #flattened"
   ]
  },
  {
   "cell_type": "code",
   "execution_count": 36,
   "id": "ac8f9166-7801-4c87-880e-1aa996c3f3d4",
   "metadata": {},
   "outputs": [
    {
     "data": {
      "text/plain": [
       "array([2, 1, 4, 5, 2, 3, 4, 7, 3, 4, 9, 3, 5, 6, 7, 2, 5, 7, 4, 2, 8, 9,\n",
       "       6, 4])"
      ]
     },
     "execution_count": 36,
     "metadata": {},
     "output_type": "execute_result"
    }
   ],
   "source": [
    "d1"
   ]
  },
  {
   "cell_type": "code",
   "execution_count": null,
   "id": "6b3b237b-e6e6-4596-a0f3-83c876566451",
   "metadata": {},
   "outputs": [],
   "source": [
    "#10.Create two 2D NumPy arrays (3×2 and 2×3) and perform matrix multiplication using np.dot().\n"
   ]
  },
  {
   "cell_type": "code",
   "execution_count": 37,
   "id": "49493c05-fa98-4bbc-9d61-8452c3c8f4da",
   "metadata": {},
   "outputs": [],
   "source": [
    "f1=np.array([[2,3,4],[6,7,8]]) #2cross3"
   ]
  },
  {
   "cell_type": "code",
   "execution_count": 38,
   "id": "98a343fe-9a6f-40be-92f1-8a6db67414ce",
   "metadata": {},
   "outputs": [
    {
     "data": {
      "text/plain": [
       "array([[2, 3, 4],\n",
       "       [6, 7, 8]])"
      ]
     },
     "execution_count": 38,
     "metadata": {},
     "output_type": "execute_result"
    }
   ],
   "source": [
    "f1"
   ]
  },
  {
   "cell_type": "code",
   "execution_count": 39,
   "id": "bd73500d-d948-40a0-84a0-736dc2e4ef8c",
   "metadata": {},
   "outputs": [
    {
     "data": {
      "text/plain": [
       "2"
      ]
     },
     "execution_count": 39,
     "metadata": {},
     "output_type": "execute_result"
    }
   ],
   "source": [
    "f1.ndim"
   ]
  },
  {
   "cell_type": "code",
   "execution_count": 42,
   "id": "85a969ba-088d-4fd6-9296-d58931bab3f6",
   "metadata": {},
   "outputs": [],
   "source": [
    "f2=np.array([[5,6],[2,6],[4,9]]) #3cross2\n",
    "            "
   ]
  },
  {
   "cell_type": "code",
   "execution_count": 43,
   "id": "fae4053f-8cd1-415b-8639-3068ffe99e44",
   "metadata": {},
   "outputs": [
    {
     "data": {
      "text/plain": [
       "array([[5, 6],\n",
       "       [2, 6],\n",
       "       [4, 9]])"
      ]
     },
     "execution_count": 43,
     "metadata": {},
     "output_type": "execute_result"
    }
   ],
   "source": [
    "f2\n"
   ]
  },
  {
   "cell_type": "code",
   "execution_count": 44,
   "id": "79d5e215-d025-46f4-a135-2095b6e12ae8",
   "metadata": {},
   "outputs": [
    {
     "data": {
      "text/plain": [
       "2"
      ]
     },
     "execution_count": 44,
     "metadata": {},
     "output_type": "execute_result"
    }
   ],
   "source": [
    "f2.ndim"
   ]
  },
  {
   "cell_type": "code",
   "execution_count": 45,
   "id": "5a55e487-cb9f-4189-8e58-d596516e9b67",
   "metadata": {},
   "outputs": [],
   "source": [
    "f=np.dot(f1,f2) #multiplication"
   ]
  },
  {
   "cell_type": "code",
   "execution_count": 46,
   "id": "6fd25ef6-5859-421a-b5c0-1ea7c85821c3",
   "metadata": {},
   "outputs": [
    {
     "data": {
      "text/plain": [
       "array([[ 32,  66],\n",
       "       [ 76, 150]])"
      ]
     },
     "execution_count": 46,
     "metadata": {},
     "output_type": "execute_result"
    }
   ],
   "source": [
    "f"
   ]
  },
  {
   "cell_type": "code",
   "execution_count": null,
   "id": "ca50f5d5-a379-4a43-8598-930392c4aadd",
   "metadata": {},
   "outputs": [],
   "source": []
  }
 ],
 "metadata": {
  "kernelspec": {
   "display_name": "Python 3 (ipykernel)",
   "language": "python",
   "name": "python3"
  },
  "language_info": {
   "codemirror_mode": {
    "name": "ipython",
    "version": 3
   },
   "file_extension": ".py",
   "mimetype": "text/x-python",
   "name": "python",
   "nbconvert_exporter": "python",
   "pygments_lexer": "ipython3",
   "version": "3.13.3"
  }
 },
 "nbformat": 4,
 "nbformat_minor": 5
}
