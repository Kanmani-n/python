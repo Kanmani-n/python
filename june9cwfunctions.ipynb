{
 "cells": [
  {
   "cell_type": "code",
   "execution_count": null,
   "id": "d66c7df4-4d24-4d04-994b-b92ac8d71a50",
   "metadata": {},
   "outputs": [],
   "source": [
    "#functions\n",
    "#block of code that performs a specfic task and it can be reused multiple times.\n",
    "#reuseability"
   ]
  },
  {
   "cell_type": "code",
   "execution_count": null,
   "id": "d380dc33-cf88-4c02-8e31-cd9959b2afc1",
   "metadata": {},
   "outputs": [],
   "source": [
    "def function_name(parameters):"
   ]
  },
  {
   "cell_type": "code",
   "execution_count": 2,
   "id": "90edf9ea-ec26-44d3-90ca-1e6a3d638f3e",
   "metadata": {},
   "outputs": [],
   "source": [
    "def greet():\n",
    "    print(\" good evening\")\n",
    "    "
   ]
  },
  {
   "cell_type": "code",
   "execution_count": 3,
   "id": "e29027f5-981e-4055-a607-83f5f83a0a56",
   "metadata": {},
   "outputs": [
    {
     "name": "stdout",
     "output_type": "stream",
     "text": [
      " good evening\n"
     ]
    }
   ],
   "source": [
    "greet()\n"
   ]
  },
  {
   "cell_type": "code",
   "execution_count": 9,
   "id": "693d998c-af6d-48f8-9a94-18494bf567b0",
   "metadata": {},
   "outputs": [],
   "source": [
    "def hello(name):\n",
    "    print(f\"hello ,{name} ! how are you ?\")"
   ]
  },
  {
   "cell_type": "code",
   "execution_count": 11,
   "id": "a7641a75-7f8d-41e3-b36e-be7097e5fa12",
   "metadata": {},
   "outputs": [
    {
     "name": "stdout",
     "output_type": "stream",
     "text": [
      "hello ,kanmani ! how are you ?\n"
     ]
    }
   ],
   "source": [
    "hello(\"kanmani\")"
   ]
  },
  {
   "cell_type": "code",
   "execution_count": 12,
   "id": "aeda2473-94f3-4805-9cea-49e3410f34d1",
   "metadata": {},
   "outputs": [
    {
     "name": "stdout",
     "output_type": "stream",
     "text": [
      "hello ,nigazl ! how are you ?\n"
     ]
    }
   ],
   "source": [
    "hello(\"nigazl\")"
   ]
  },
  {
   "cell_type": "code",
   "execution_count": 13,
   "id": "572cec8b-bde1-4fac-995e-948f2cfe52a6",
   "metadata": {},
   "outputs": [],
   "source": [
    "def add(a , b)\n",
    "    return a+b"
   ]
  },
  {
   "cell_type": "code",
   "execution_count": 14,
   "id": "cd158205-6d52-4fe6-b767-78e2990b3db7",
   "metadata": {},
   "outputs": [
    {
     "data": {
      "text/plain": [
       "176"
      ]
     },
     "execution_count": 14,
     "metadata": {},
     "output_type": "execute_result"
    }
   ],
   "source": [
    "add(78 ,98)"
   ]
  },
  {
   "cell_type": "code",
   "execution_count": 15,
   "id": "64d069be-c54a-4d8b-9268-e0c57818a343",
   "metadata": {},
   "outputs": [
    {
     "data": {
      "text/plain": [
       "18"
      ]
     },
     "execution_count": 15,
     "metadata": {},
     "output_type": "execute_result"
    }
   ],
   "source": [
    "add(9 ,9)"
   ]
  },
  {
   "cell_type": "code",
   "execution_count": 19,
   "id": "093054da-0461-473b-9b8b-7c21eeca5ae2",
   "metadata": {},
   "outputs": [],
   "source": [
    "def multi(c ,d):\n",
    "   return c*d"
   ]
  },
  {
   "cell_type": "code",
   "execution_count": 20,
   "id": "6bece543-ee4f-4ff4-ba46-163e7bd89808",
   "metadata": {},
   "outputs": [
    {
     "data": {
      "text/plain": [
       "6"
      ]
     },
     "execution_count": 20,
     "metadata": {},
     "output_type": "execute_result"
    }
   ],
   "source": [
    "multi(2,3)"
   ]
  },
  {
   "cell_type": "code",
   "execution_count": 21,
   "id": "1636d3f4-ab09-44fa-98f5-cc358f8ca09a",
   "metadata": {},
   "outputs": [
    {
     "data": {
      "text/plain": [
       "195615"
      ]
     },
     "execution_count": 21,
     "metadata": {},
     "output_type": "execute_result"
    }
   ],
   "source": [
    "multi(345 , 567)"
   ]
  },
  {
   "cell_type": "code",
   "execution_count": null,
   "id": "e4918683-d20d-4aa8-a54f-8e7a785dd679",
   "metadata": {},
   "outputs": [],
   "source": [
    "#check the number is odd or even"
   ]
  },
  {
   "cell_type": "code",
   "execution_count": 42,
   "id": "5eaeb4da-4b2a-4708-973d-68fcce664a20",
   "metadata": {},
   "outputs": [
    {
     "ename": "IndentationError",
     "evalue": "unindent does not match any outer indentation level (<string>, line 3)",
     "output_type": "error",
     "traceback": [
      "  \u001b[36mFile \u001b[39m\u001b[32m<string>:3\u001b[39m\n\u001b[31m    \u001b[39m\u001b[31mif number%2 == 0:\u001b[39m\n                     ^\n\u001b[31mIndentationError\u001b[39m\u001b[31m:\u001b[39m unindent does not match any outer indentation level\n"
     ]
    }
   ],
   "source": [
    "def num():\n",
    "    number = int(input(\"enter the number\"))\n",
    "   if number%2 == 0:\n",
    "   print(\"even number\")\n",
    "   else:\n",
    "      print(\"odd number\")"
   ]
  },
  {
   "cell_type": "code",
   "execution_count": null,
   "id": "db833e24-c484-4be8-9de7-198921067597",
   "metadata": {},
   "outputs": [],
   "source": [
    "# take a list of numbers and retuen sum of all elements\n"
   ]
  },
  {
   "cell_type": "code",
   "execution_count": 47,
   "id": "948525e8-7d67-4049-891b-2f2862b745b8",
   "metadata": {},
   "outputs": [],
   "source": [
    "def sum():\n",
    "  a = 0\n",
    "  l = [2,9,7,8 ,56 ,78]\n",
    "  for i in l:\n",
    "    a+=i\n",
    "  print(a)"
   ]
  },
  {
   "cell_type": "code",
   "execution_count": 48,
   "id": "b8b1dba8-3ab5-479a-9c63-fb44da5cf5d0",
   "metadata": {},
   "outputs": [
    {
     "name": "stdout",
     "output_type": "stream",
     "text": [
      "160\n"
     ]
    }
   ],
   "source": [
    "sum()"
   ]
  },
  {
   "cell_type": "code",
   "execution_count": 68,
   "id": "3f907480-eb23-42f6-a020-76b2aaa2b1cc",
   "metadata": {},
   "outputs": [],
   "source": [
    "def sums():\n",
    "  a = 0\n",
    "  l = input(\"enter the numbers\")\n",
    "  for i in l:\n",
    "    a+=i\n",
    "  print(a)"
   ]
  },
  {
   "cell_type": "code",
   "execution_count": 69,
   "id": "134f5572-c517-4b95-8e04-eb0de9f321cf",
   "metadata": {},
   "outputs": [
    {
     "name": "stdin",
     "output_type": "stream",
     "text": [
      "enter the numbers 23 34\n"
     ]
    },
    {
     "ename": "TypeError",
     "evalue": "unsupported operand type(s) for +=: 'int' and 'str'",
     "output_type": "error",
     "traceback": [
      "\u001b[31m---------------------------------------------------------------------------\u001b[39m",
      "\u001b[31mTypeError\u001b[39m                                 Traceback (most recent call last)",
      "\u001b[36mCell\u001b[39m\u001b[36m \u001b[39m\u001b[32mIn[69]\u001b[39m\u001b[32m, line 1\u001b[39m\n\u001b[32m----> \u001b[39m\u001b[32m1\u001b[39m \u001b[43msums\u001b[49m\u001b[43m(\u001b[49m\u001b[43m)\u001b[49m\n",
      "\u001b[36mCell\u001b[39m\u001b[36m \u001b[39m\u001b[32mIn[68]\u001b[39m\u001b[32m, line 5\u001b[39m, in \u001b[36msums\u001b[39m\u001b[34m()\u001b[39m\n\u001b[32m      3\u001b[39m l = \u001b[38;5;28minput\u001b[39m(\u001b[33m\"\u001b[39m\u001b[33menter the numbers\u001b[39m\u001b[33m\"\u001b[39m)\n\u001b[32m      4\u001b[39m \u001b[38;5;28;01mfor\u001b[39;00m i \u001b[38;5;129;01min\u001b[39;00m l:\n\u001b[32m----> \u001b[39m\u001b[32m5\u001b[39m   \u001b[43ma\u001b[49m\u001b[43m+\u001b[49m\u001b[43m=\u001b[49m\u001b[43mi\u001b[49m\n\u001b[32m      6\u001b[39m \u001b[38;5;28mprint\u001b[39m(a)\n",
      "\u001b[31mTypeError\u001b[39m: unsupported operand type(s) for +=: 'int' and 'str'"
     ]
    }
   ],
   "source": [
    "sums()"
   ]
  },
  {
   "cell_type": "code",
   "execution_count": 56,
   "id": "55c74d21-93c4-42f5-8489-6430ba376ef5",
   "metadata": {},
   "outputs": [],
   "source": [
    "def sum_list(numbers):\n",
    " return sum(numbers)\n",
    "\n"
   ]
  },
  {
   "cell_type": "code",
   "execution_count": 58,
   "id": "cd960ce7-f382-4446-b93e-b3308ce35c52",
   "metadata": {},
   "outputs": [
    {
     "name": "stdin",
     "output_type": "stream",
     "text": [
      "enter the numbers 23\n"
     ]
    },
    {
     "ename": "TypeError",
     "evalue": "unsupported operand type(s) for +=: 'int' and 'str'",
     "output_type": "error",
     "traceback": [
      "\u001b[31m---------------------------------------------------------------------------\u001b[39m",
      "\u001b[31mTypeError\u001b[39m                                 Traceback (most recent call last)",
      "\u001b[36mCell\u001b[39m\u001b[36m \u001b[39m\u001b[32mIn[58]\u001b[39m\u001b[32m, line 1\u001b[39m\n\u001b[32m----> \u001b[39m\u001b[32m1\u001b[39m \u001b[38;5;28;43msum\u001b[39;49m\u001b[43m(\u001b[49m\u001b[43m)\u001b[49m\n",
      "\u001b[36mCell\u001b[39m\u001b[36m \u001b[39m\u001b[32mIn[55]\u001b[39m\u001b[32m, line 5\u001b[39m, in \u001b[36msum\u001b[39m\u001b[34m()\u001b[39m\n\u001b[32m      3\u001b[39m l = \u001b[38;5;28minput\u001b[39m(\u001b[33m\"\u001b[39m\u001b[33menter the numbers\u001b[39m\u001b[33m\"\u001b[39m)\n\u001b[32m      4\u001b[39m \u001b[38;5;28;01mfor\u001b[39;00m i \u001b[38;5;129;01min\u001b[39;00m l:\n\u001b[32m----> \u001b[39m\u001b[32m5\u001b[39m   \u001b[43ma\u001b[49m\u001b[43m+\u001b[49m\u001b[43m=\u001b[49m\u001b[43mi\u001b[49m\n\u001b[32m      6\u001b[39m \u001b[38;5;28mprint\u001b[39m(a)\n",
      "\u001b[31mTypeError\u001b[39m: unsupported operand type(s) for +=: 'int' and 'str'"
     ]
    }
   ],
   "source": [
    "sum()"
   ]
  },
  {
   "cell_type": "code",
   "execution_count": 59,
   "id": "f45e3ecf-070a-4b0b-9726-c59faa16361e",
   "metadata": {},
   "outputs": [
    {
     "ename": "TypeError",
     "evalue": "sum() takes 0 positional arguments but 1 was given",
     "output_type": "error",
     "traceback": [
      "\u001b[31m---------------------------------------------------------------------------\u001b[39m",
      "\u001b[31mTypeError\u001b[39m                                 Traceback (most recent call last)",
      "\u001b[36mCell\u001b[39m\u001b[36m \u001b[39m\u001b[32mIn[59]\u001b[39m\u001b[32m, line 6\u001b[39m\n\u001b[32m      2\u001b[39m  \u001b[38;5;28;01mreturn\u001b[39;00m \u001b[38;5;28msum\u001b[39m(numbers)\n\u001b[32m      5\u001b[39m my_list = [\u001b[32m1\u001b[39m, \u001b[32m2\u001b[39m, \u001b[32m3\u001b[39m, \u001b[32m4\u001b[39m, \u001b[32m5\u001b[39m]\n\u001b[32m----> \u001b[39m\u001b[32m6\u001b[39m \u001b[38;5;28mprint\u001b[39m(\u001b[33m\"\u001b[39m\u001b[33mSum of the list:\u001b[39m\u001b[33m\"\u001b[39m, \u001b[43msum_list\u001b[49m\u001b[43m(\u001b[49m\u001b[43mmy_list\u001b[49m\u001b[43m)\u001b[49m)\n",
      "\u001b[36mCell\u001b[39m\u001b[36m \u001b[39m\u001b[32mIn[59]\u001b[39m\u001b[32m, line 2\u001b[39m, in \u001b[36msum_list\u001b[39m\u001b[34m(numbers)\u001b[39m\n\u001b[32m      1\u001b[39m \u001b[38;5;28;01mdef\u001b[39;00m\u001b[38;5;250m \u001b[39m\u001b[34msum_list\u001b[39m(numbers):\n\u001b[32m----> \u001b[39m\u001b[32m2\u001b[39m  \u001b[38;5;28;01mreturn\u001b[39;00m \u001b[38;5;28;43msum\u001b[39;49m\u001b[43m(\u001b[49m\u001b[43mnumbers\u001b[49m\u001b[43m)\u001b[49m\n",
      "\u001b[31mTypeError\u001b[39m: sum() takes 0 positional arguments but 1 was given"
     ]
    }
   ],
   "source": [
    "def sum_list(numbers):\n",
    " return sum(numbers)\n",
    "\n",
    "\n",
    "my_list = [1, 2, 3, 4, 5]\n",
    "print(\"Sum of the list:\", sum_list(my_list))"
   ]
  },
  {
   "cell_type": "code",
   "execution_count": 65,
   "id": "55201006-db83-49e6-abb0-fa66d2160523",
   "metadata": {},
   "outputs": [
    {
     "name": "stdout",
     "output_type": "stream",
     "text": [
      "10\n"
     ]
    }
   ],
   "source": [
    "x = 10 # global variable\n",
    "def fun():\n",
    "    y =5 #local variable\n",
    "    print(x+y)\n"
   ]
  },
  {
   "cell_type": "code",
   "execution_count": 63,
   "id": "d19364af-18c9-4354-b7c8-641392c07122",
   "metadata": {},
   "outputs": [
    {
     "name": "stdout",
     "output_type": "stream",
     "text": [
      "15\n"
     ]
    }
   ],
   "source": [
    "fun()"
   ]
  },
  {
   "cell_type": "code",
   "execution_count": 66,
   "id": "523eff2b-07c8-4663-88de-d89a41cf8058",
   "metadata": {},
   "outputs": [
    {
     "data": {
      "text/plain": [
       "10"
      ]
     },
     "execution_count": 66,
     "metadata": {},
     "output_type": "execute_result"
    }
   ],
   "source": [
    "x"
   ]
  },
  {
   "cell_type": "code",
   "execution_count": 72,
   "id": "7417b321-9949-4c36-b7e6-419389495820",
   "metadata": {},
   "outputs": [],
   "source": [
    "#lamda function (name less or anonymous function)\n",
    "square = lambda x: x**2"
   ]
  },
  {
   "cell_type": "code",
   "execution_count": 73,
   "id": "a879d88e-849d-4c84-9b78-18c92802896b",
   "metadata": {},
   "outputs": [
    {
     "data": {
      "text/plain": [
       "16"
      ]
     },
     "execution_count": 73,
     "metadata": {},
     "output_type": "execute_result"
    }
   ],
   "source": [
    "square(4)\n"
   ]
  },
  {
   "cell_type": "code",
   "execution_count": 75,
   "id": "f6f61e0b-889d-4076-97b7-010ff4eed0d9",
   "metadata": {},
   "outputs": [],
   "source": [
    "cube = lambda y: y**3"
   ]
  },
  {
   "cell_type": "code",
   "execution_count": 76,
   "id": "a503e53b-7d11-41be-8153-cf1ebcd64f86",
   "metadata": {},
   "outputs": [
    {
     "data": {
      "text/plain": [
       "8"
      ]
     },
     "execution_count": 76,
     "metadata": {},
     "output_type": "execute_result"
    }
   ],
   "source": [
    "cube(2)\n"
   ]
  },
  {
   "cell_type": "code",
   "execution_count": null,
   "id": "f2f1649f-4a00-4d73-ae0e-600f456156a1",
   "metadata": {},
   "outputs": [],
   "source": [
    "write a function that take a list of numbers and return a new list with only even numbers"
   ]
  },
  {
   "cell_type": "code",
   "execution_count": 3,
   "id": "861eaec4-2536-48eb-b1b9-ff2d6252ff3f",
   "metadata": {},
   "outputs": [
    {
     "ename": "_IncompleteInputError",
     "evalue": "incomplete input (266196074.py, line 3)",
     "output_type": "error",
     "traceback": [
      "  \u001b[36mCell\u001b[39m\u001b[36m \u001b[39m\u001b[32mIn[3]\u001b[39m\u001b[32m, line 3\u001b[39m\n\u001b[31m    \u001b[39m\u001b[31mif l1%2 == 0:\u001b[39m\n                 ^\n\u001b[31m_IncompleteInputError\u001b[39m\u001b[31m:\u001b[39m incomplete input\n"
     ]
    }
   ],
   "source": [
    "def create(numbers):\n",
    "  for i in l1:\n",
    "   if l1%2 == 0:"
   ]
  },
  {
   "cell_type": "code",
   "execution_count": 88,
   "id": "07b8be3a-d56c-4de4-818d-4e44521494e3",
   "metadata": {},
   "outputs": [
    {
     "data": {
      "text/plain": [
       "[1, 4, 6, 8, 45, 67]"
      ]
     },
     "execution_count": 88,
     "metadata": {},
     "output_type": "execute_result"
    }
   ],
   "source": [
    "l1"
   ]
  },
  {
   "cell_type": "code",
   "execution_count": 4,
   "id": "6dcf9613-e242-458d-be10-abb5dd182502",
   "metadata": {},
   "outputs": [
    {
     "ename": "SyntaxError",
     "evalue": "invalid syntax (807150902.py, line 1)",
     "output_type": "error",
     "traceback": [
      "  \u001b[36mCell\u001b[39m\u001b[36m \u001b[39m\u001b[32mIn[4]\u001b[39m\u001b[32m, line 1\u001b[39m\n\u001b[31m    \u001b[39m\u001b[31mcreate():\u001b[39m\n            ^\n\u001b[31mSyntaxError\u001b[39m\u001b[31m:\u001b[39m invalid syntax\n"
     ]
    }
   ],
   "source": [
    "create()"
   ]
  },
  {
   "cell_type": "code",
   "execution_count": null,
   "id": "aa8465a9-7ac9-4510-9079-0533974b1a50",
   "metadata": {},
   "outputs": [],
   "source": []
  }
 ],
 "metadata": {
  "kernelspec": {
   "display_name": "Python 3 (ipykernel)",
   "language": "python",
   "name": "python3"
  },
  "language_info": {
   "codemirror_mode": {
    "name": "ipython",
    "version": 3
   },
   "file_extension": ".py",
   "mimetype": "text/x-python",
   "name": "python",
   "nbconvert_exporter": "python",
   "pygments_lexer": "ipython3",
   "version": "3.13.3"
  }
 },
 "nbformat": 4,
 "nbformat_minor": 5
}
