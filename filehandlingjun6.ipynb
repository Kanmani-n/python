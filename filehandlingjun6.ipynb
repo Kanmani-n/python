{
 "cells": [
  {
   "cell_type": "code",
   "execution_count": null,
   "id": "f3cfedc4-4c88-4ec9-b2f9-65f107c337ef",
   "metadata": {},
   "outputs": [],
   "source": [
    "#filehandling \n",
    "#create a file\n",
    "#reading a file\n",
    "#writing a file\n",
    "#appending a file"
   ]
  },
  {
   "cell_type": "code",
   "execution_count": 1,
   "id": "73b31f8c-a85d-440a-b0d1-1746d5f28fdb",
   "metadata": {},
   "outputs": [
    {
     "name": "stdout",
     "output_type": "stream",
     "text": [
      "11\n"
     ]
    }
   ],
   "source": [
    "f1 = open('test.txt','w')\n",
    "content = f1.write(\"hello world\")\n",
    "print(content)\n",
    "f1.close()"
   ]
  },
  {
   "cell_type": "code",
   "execution_count": 16,
   "id": "482a1ec9-100c-451d-a112-cfc074d82269",
   "metadata": {},
   "outputs": [
    {
     "data": {
      "text/plain": [
       "'good morning \\n hello world'"
      ]
     },
     "execution_count": 16,
     "metadata": {},
     "output_type": "execute_result"
    }
   ],
   "source": [
    "f2 = open('test.txt','r')\n",
    "f2.read()"
   ]
  },
  {
   "cell_type": "code",
   "execution_count": 14,
   "id": "2e866082-0dc6-4cc2-8a11-f216341216ea",
   "metadata": {},
   "outputs": [
    {
     "name": "stdout",
     "output_type": "stream",
     "text": [
      "13\n"
     ]
    }
   ],
   "source": [
    "f1 = open('test.txt','w')\n",
    "content = f1.write(\"good morning \")\n",
    "print(content)\n",
    "f1.close()"
   ]
  },
  {
   "cell_type": "code",
   "execution_count": 15,
   "id": "4a60d45d-3963-4f03-9163-9af72736732e",
   "metadata": {},
   "outputs": [
    {
     "name": "stdout",
     "output_type": "stream",
     "text": [
      "13\n"
     ]
    }
   ],
   "source": [
    "f1 = open('test.txt','a')\n",
    "content = f1.write(\"\\n hello world\")\n",
    "print(content)\n",
    "f1.close()"
   ]
  },
  {
   "cell_type": "code",
   "execution_count": 18,
   "id": "33717c95-41c4-41d4-9ade-95e26418d691",
   "metadata": {},
   "outputs": [
    {
     "data": {
      "text/plain": [
       "['good morning \\n', ' hello world']"
      ]
     },
     "execution_count": 18,
     "metadata": {},
     "output_type": "execute_result"
    }
   ],
   "source": [
    "f2 = open('test.txt','r')\n",
    "f2.readlines()"
   ]
  },
  {
   "cell_type": "code",
   "execution_count": 19,
   "id": "fba630c9-95d9-4fa3-9d44-149ac937b34d",
   "metadata": {},
   "outputs": [],
   "source": [
    "with open ('test.txt','w') as file: #with operator\n",
    " file.write(\"hello Jitha\")"
   ]
  },
  {
   "cell_type": "code",
   "execution_count": 20,
   "id": "21476e28-65c1-4150-a6a8-f54e144f5e96",
   "metadata": {},
   "outputs": [
    {
     "data": {
      "text/plain": [
       "'hello Jitha'"
      ]
     },
     "execution_count": 20,
     "metadata": {},
     "output_type": "execute_result"
    }
   ],
   "source": [
    "f2 = open('test.txt','r')\n",
    "f2.read()"
   ]
  },
  {
   "cell_type": "code",
   "execution_count": null,
   "id": "e0ee6cf6-c9ee-4038-8c6a-cd345ffdc84c",
   "metadata": {},
   "outputs": [],
   "source": [
    "#exceptional handling"
   ]
  },
  {
   "cell_type": "code",
   "execution_count": 22,
   "id": "10fb6e99-361b-4526-8f64-16333cbf806d",
   "metadata": {},
   "outputs": [
    {
     "ename": "ZeroDivisionError",
     "evalue": "division by zero",
     "output_type": "error",
     "traceback": [
      "\u001b[31m---------------------------------------------------------------------------\u001b[39m",
      "\u001b[31mZeroDivisionError\u001b[39m                         Traceback (most recent call last)",
      "\u001b[36mCell\u001b[39m\u001b[36m \u001b[39m\u001b[32mIn[22]\u001b[39m\u001b[32m, line 3\u001b[39m\n\u001b[32m      1\u001b[39m a= \u001b[32m10\u001b[39m\n\u001b[32m      2\u001b[39m b= \u001b[32m0\u001b[39m\n\u001b[32m----> \u001b[39m\u001b[32m3\u001b[39m c= \u001b[43ma\u001b[49m\u001b[43m/\u001b[49m\u001b[43mb\u001b[49m\n\u001b[32m      4\u001b[39m \u001b[38;5;28mprint\u001b[39m (c)\n\u001b[32m      5\u001b[39m \u001b[38;5;28mprint\u001b[39m (\u001b[33m\"\u001b[39m\u001b[33mprogram exceuted\u001b[39m\u001b[33m\"\u001b[39m)\n",
      "\u001b[31mZeroDivisionError\u001b[39m: division by zero"
     ]
    }
   ],
   "source": [
    "a= 10\n",
    "b= 0\n",
    "c= a/b\n",
    "print (c)\n",
    "print (\"program exceuted\")"
   ]
  },
  {
   "cell_type": "code",
   "execution_count": 24,
   "id": "826e083a-fbc3-44e0-a046-c6452bf9b796",
   "metadata": {},
   "outputs": [],
   "source": [
    "l = [1,2,3,4]"
   ]
  },
  {
   "cell_type": "code",
   "execution_count": 25,
   "id": "d8baf03a-1d3a-43d1-a191-87e1f02ba68b",
   "metadata": {},
   "outputs": [
    {
     "data": {
      "text/plain": [
       "[1, 2, 3, 4]"
      ]
     },
     "execution_count": 25,
     "metadata": {},
     "output_type": "execute_result"
    }
   ],
   "source": [
    "l"
   ]
  },
  {
   "cell_type": "code",
   "execution_count": 26,
   "id": "235e27d3-d148-4bb7-886d-ab372175b94b",
   "metadata": {},
   "outputs": [
    {
     "data": {
      "text/plain": [
       "3"
      ]
     },
     "execution_count": 26,
     "metadata": {},
     "output_type": "execute_result"
    }
   ],
   "source": [
    "l[2]"
   ]
  },
  {
   "cell_type": "code",
   "execution_count": 27,
   "id": "8e6b84c0-4fe6-4f16-89be-ea91294cafd7",
   "metadata": {},
   "outputs": [
    {
     "ename": "IndexError",
     "evalue": "list index out of range",
     "output_type": "error",
     "traceback": [
      "\u001b[31m---------------------------------------------------------------------------\u001b[39m",
      "\u001b[31mIndexError\u001b[39m                                Traceback (most recent call last)",
      "\u001b[36mCell\u001b[39m\u001b[36m \u001b[39m\u001b[32mIn[27]\u001b[39m\u001b[32m, line 1\u001b[39m\n\u001b[32m----> \u001b[39m\u001b[32m1\u001b[39m \u001b[43ml\u001b[49m\u001b[43m[\u001b[49m\u001b[32;43m5\u001b[39;49m\u001b[43m]\u001b[49m\n",
      "\u001b[31mIndexError\u001b[39m: list index out of range"
     ]
    }
   ],
   "source": [
    "l[5]"
   ]
  },
  {
   "cell_type": "code",
   "execution_count": 30,
   "id": "8272d760-7969-4496-bd16-46c83055dd7f",
   "metadata": {},
   "outputs": [
    {
     "name": "stdout",
     "output_type": "stream",
     "text": [
      "Cannot divide by Zero\n",
      "program exceuted\n"
     ]
    }
   ],
   "source": [
    "try:\n",
    " a= 10\n",
    " b= 0\n",
    " c= a/b\n",
    " print(c)\n",
    " l1 = [2,3,4,5,6,7]\n",
    " print(l1[6]) \n",
    "except ZeroDivisionError:\n",
    " print(\"Cannot divide by Zero\")\n",
    "except IndexError:\n",
    " print (\" not in list\")\n",
    "print (\"program exceuted\")"
   ]
  },
  {
   "cell_type": "code",
   "execution_count": 33,
   "id": "a4b8a08a-698e-4c13-9244-e35e0de46dd0",
   "metadata": {},
   "outputs": [
    {
     "name": "stdout",
     "output_type": "stream",
     "text": [
      "2.0\n",
      "error\n",
      "program exceuted\n"
     ]
    }
   ],
   "source": [
    "try:\n",
    " a= 10\n",
    " b= 5\n",
    " c= a/b\n",
    " print(c)\n",
    " l1 = [2,3,4,5,6,7]\n",
    " print(l1[6]) \n",
    "except :\n",
    " print(\"error\")\n",
    "\n",
    "print (\"program exceuted\")"
   ]
  },
  {
   "cell_type": "code",
   "execution_count": 36,
   "id": "e5e00a59-74a9-4632-acca-317111249266",
   "metadata": {},
   "outputs": [
    {
     "name": "stdout",
     "output_type": "stream",
     "text": [
      "4\n",
      "5.0\n",
      "program exceuted\n",
      "hello\n",
      "the program uses finally\n"
     ]
    }
   ],
   "source": [
    "try:                      #else finally\n",
    " l1 = [2,3,4,5,6,7]\n",
    " print(l1[2]) \n",
    " a= 10\n",
    " b= 2\n",
    " c= a/b\n",
    " print(c)\n",
    "except ZeroDivisionError:\n",
    " print(\"Cannot divide by Zero\")\n",
    "except IndexError:\n",
    " print (\" not in list\")\n",
    "else:\n",
    " print (\"program exceuted\")\n",
    "finally:\n",
    " print(\"hello\")\n",
    " print(\"the program uses finally\")"
   ]
  },
  {
   "cell_type": "code",
   "execution_count": null,
   "id": "85d8c6d7-9ef4-4fab-9c03-6a31eda517f5",
   "metadata": {},
   "outputs": [],
   "source": [
    "file_names = [\"file1.txt\", \"file2.txt\", \"file3.txt\"]\n",
    "\n",
    "for file_name in file_names:\n",
    " with open(file_name, 'r') as file:\n",
    " content = file.read()\n",
    " print(f\"Contents of {file_name}:\\n{content}\\n\")"
   ]
  }
 ],
 "metadata": {
  "kernelspec": {
   "display_name": "Python 3 (ipykernel)",
   "language": "python",
   "name": "python3"
  },
  "language_info": {
   "codemirror_mode": {
    "name": "ipython",
    "version": 3
   },
   "file_extension": ".py",
   "mimetype": "text/x-python",
   "name": "python",
   "nbconvert_exporter": "python",
   "pygments_lexer": "ipython3",
   "version": "3.13.3"
  }
 },
 "nbformat": 4,
 "nbformat_minor": 5
}
