{
 "cells": [
  {
   "cell_type": "code",
   "execution_count": null,
   "id": "f15b73a2-db9c-4ca3-8ad9-42db600f0256",
   "metadata": {},
   "outputs": [],
   "source": [
    "#numpy pandas"
   ]
  },
  {
   "cell_type": "code",
   "execution_count": 1,
   "id": "3e0089ec-6bac-40ad-9f82-ea5973ea4e20",
   "metadata": {},
   "outputs": [],
   "source": [
    "import numpy as np"
   ]
  },
  {
   "cell_type": "code",
   "execution_count": 3,
   "id": "21456d4d-f393-4138-a7da-921bf498c880",
   "metadata": {},
   "outputs": [
    {
     "name": "stdout",
     "output_type": "stream",
     "text": [
      "Collecting numpy\n",
      "  Downloading numpy-2.3.0-cp313-cp313-win_amd64.whl.metadata (60 kB)\n",
      "Downloading numpy-2.3.0-cp313-cp313-win_amd64.whl (12.7 MB)\n",
      "   ---------------------------------------- 0.0/12.7 MB ? eta -:--:--\n",
      "   ------ --------------------------------- 2.1/12.7 MB 11.5 MB/s eta 0:00:01\n",
      "   ---------------------- ----------------- 7.1/12.7 MB 18.1 MB/s eta 0:00:01\n",
      "   -------------------------------------- - 12.3/12.7 MB 21.6 MB/s eta 0:00:01\n",
      "   ---------------------------------------- 12.7/12.7 MB 18.1 MB/s eta 0:00:00\n",
      "Installing collected packages: numpy\n",
      "Successfully installed numpy-2.3.0\n",
      "Note: you may need to restart the kernel to use updated packages.\n"
     ]
    }
   ],
   "source": [
    "pip install numpy"
   ]
  },
  {
   "cell_type": "code",
   "execution_count": 2,
   "id": "fe9442c6-4583-4dbd-a0aa-1f72f8a9c78d",
   "metadata": {},
   "outputs": [
    {
     "data": {
      "text/plain": [
       "array([1, 2, 3])"
      ]
     },
     "execution_count": 2,
     "metadata": {},
     "output_type": "execute_result"
    }
   ],
   "source": [
    "#create\n",
    "arr=np.array([1,2,3])\n",
    "arr"
   ]
  },
  {
   "cell_type": "code",
   "execution_count": 3,
   "id": "457bb19c-be2a-43c9-82ec-3f89079f67f6",
   "metadata": {},
   "outputs": [
    {
     "data": {
      "text/plain": [
       "(3,)"
      ]
     },
     "execution_count": 3,
     "metadata": {},
     "output_type": "execute_result"
    }
   ],
   "source": [
    "arr.shape"
   ]
  },
  {
   "cell_type": "code",
   "execution_count": 5,
   "id": "cedd3ae6-2ae4-4f2f-a797-31b0388ad399",
   "metadata": {},
   "outputs": [
    {
     "data": {
      "text/plain": [
       "1"
      ]
     },
     "execution_count": 5,
     "metadata": {},
     "output_type": "execute_result"
    }
   ],
   "source": [
    "arr.ndim"
   ]
  },
  {
   "cell_type": "code",
   "execution_count": 6,
   "id": "d85b43e5-5cb6-45b7-90ac-4bb365b08542",
   "metadata": {},
   "outputs": [
    {
     "data": {
      "text/plain": [
       "dtype('int64')"
      ]
     },
     "execution_count": 6,
     "metadata": {},
     "output_type": "execute_result"
    }
   ],
   "source": [
    "arr.dtype"
   ]
  },
  {
   "cell_type": "code",
   "execution_count": 9,
   "id": "d5d4d13b-d2b9-44d2-9f01-dfd5ace3c9ef",
   "metadata": {},
   "outputs": [],
   "source": [
    "b = np.array([[1,2,3],[4,5,6]])"
   ]
  },
  {
   "cell_type": "code",
   "execution_count": 10,
   "id": "ab3158f9-585f-4df1-b5fe-c2b46fc6a37d",
   "metadata": {},
   "outputs": [],
   "source": [
    "c = np.array([[1,2,3],[4,5,6],[7,8,9]])"
   ]
  },
  {
   "cell_type": "code",
   "execution_count": 11,
   "id": "7be75dfe-4945-4a67-8998-96e5e9460051",
   "metadata": {},
   "outputs": [
    {
     "data": {
      "text/plain": [
       "(2, 3)"
      ]
     },
     "execution_count": 11,
     "metadata": {},
     "output_type": "execute_result"
    }
   ],
   "source": [
    "b.shape"
   ]
  },
  {
   "cell_type": "code",
   "execution_count": 12,
   "id": "169d4958-6c39-4d63-946b-9ccb5b732a93",
   "metadata": {},
   "outputs": [
    {
     "data": {
      "text/plain": [
       "2"
      ]
     },
     "execution_count": 12,
     "metadata": {},
     "output_type": "execute_result"
    }
   ],
   "source": [
    "b.ndim"
   ]
  },
  {
   "cell_type": "code",
   "execution_count": 13,
   "id": "db535e52-a405-4da1-a78e-2864ff0332b8",
   "metadata": {},
   "outputs": [
    {
     "data": {
      "text/plain": [
       "dtype('int64')"
      ]
     },
     "execution_count": 13,
     "metadata": {},
     "output_type": "execute_result"
    }
   ],
   "source": [
    "b.dtype"
   ]
  },
  {
   "cell_type": "code",
   "execution_count": 14,
   "id": "e9fe4f76-9c9b-4187-8664-a7e6fcdb7233",
   "metadata": {},
   "outputs": [
    {
     "data": {
      "text/plain": [
       "dtype('int64')"
      ]
     },
     "execution_count": 14,
     "metadata": {},
     "output_type": "execute_result"
    }
   ],
   "source": [
    "c.dtype"
   ]
  },
  {
   "cell_type": "code",
   "execution_count": 15,
   "id": "54fdfda8-13e6-4a9c-a393-31ace38a1dda",
   "metadata": {},
   "outputs": [
    {
     "data": {
      "text/plain": [
       "2"
      ]
     },
     "execution_count": 15,
     "metadata": {},
     "output_type": "execute_result"
    }
   ],
   "source": [
    "c.ndim"
   ]
  },
  {
   "cell_type": "code",
   "execution_count": 16,
   "id": "7104d361-e203-44b2-8753-819249e1b525",
   "metadata": {},
   "outputs": [],
   "source": [
    "a3 = np.array([\n",
    " [[1, 2], [3, 4]],\n",
    " [[5, 6], [7, 8]]\n",
    "])"
   ]
  },
  {
   "cell_type": "code",
   "execution_count": 17,
   "id": "3ea64d59-2425-4448-b5e2-f8f0703837ec",
   "metadata": {},
   "outputs": [
    {
     "data": {
      "text/plain": [
       "3"
      ]
     },
     "execution_count": 17,
     "metadata": {},
     "output_type": "execute_result"
    }
   ],
   "source": [
    "a3.ndim #finding dimension"
   ]
  },
  {
   "cell_type": "code",
   "execution_count": 18,
   "id": "6f2c3ca2-65f2-47ae-9e0d-4cdc41fe8ac9",
   "metadata": {},
   "outputs": [
    {
     "data": {
      "text/plain": [
       "(2, 2, 2)"
      ]
     },
     "execution_count": 18,
     "metadata": {},
     "output_type": "execute_result"
    }
   ],
   "source": [
    "a3.shape #shape"
   ]
  },
  {
   "cell_type": "code",
   "execution_count": 19,
   "id": "87acd151-dece-4418-9709-88f62b70e9f7",
   "metadata": {},
   "outputs": [
    {
     "data": {
      "text/plain": [
       "dtype('int64')"
      ]
     },
     "execution_count": 19,
     "metadata": {},
     "output_type": "execute_result"
    }
   ],
   "source": [
    "a3.dtype  #integer"
   ]
  },
  {
   "cell_type": "code",
   "execution_count": 20,
   "id": "23605f65-9e99-4828-89e1-35092526f0b9",
   "metadata": {},
   "outputs": [],
   "source": [
    "z=np.zeros((2,3))"
   ]
  },
  {
   "cell_type": "code",
   "execution_count": 21,
   "id": "9c221e11-817d-4352-ab9e-5962445ff870",
   "metadata": {},
   "outputs": [
    {
     "data": {
      "text/plain": [
       "array([[0., 0., 0.],\n",
       "       [0., 0., 0.]])"
      ]
     },
     "execution_count": 21,
     "metadata": {},
     "output_type": "execute_result"
    }
   ],
   "source": [
    "z"
   ]
  },
  {
   "cell_type": "code",
   "execution_count": 24,
   "id": "3db22e66-57ec-49a4-98b6-0d3956f94988",
   "metadata": {},
   "outputs": [],
   "source": [
    "r=np.ones((2,3))"
   ]
  },
  {
   "cell_type": "code",
   "execution_count": 25,
   "id": "fcec5130-0270-470e-8cf8-f25f644d05eb",
   "metadata": {},
   "outputs": [
    {
     "data": {
      "text/plain": [
       "array([[1., 1., 1.],\n",
       "       [1., 1., 1.]])"
      ]
     },
     "execution_count": 25,
     "metadata": {},
     "output_type": "execute_result"
    }
   ],
   "source": [
    "r"
   ]
  },
  {
   "cell_type": "code",
   "execution_count": 26,
   "id": "2921fbae-b79a-43c1-831a-b2cb7bd2e5eb",
   "metadata": {},
   "outputs": [],
   "source": [
    "d=np.arange(0,10,2) "
   ]
  },
  {
   "cell_type": "code",
   "execution_count": 27,
   "id": "2c5becb3-959e-475c-8790-a5103116e7ac",
   "metadata": {},
   "outputs": [
    {
     "data": {
      "text/plain": [
       "array([0, 2, 4, 6, 8])"
      ]
     },
     "execution_count": 27,
     "metadata": {},
     "output_type": "execute_result"
    }
   ],
   "source": [
    "d"
   ]
  },
  {
   "cell_type": "code",
   "execution_count": 28,
   "id": "46526d8f-7616-4d80-96e1-da4e1dca3f07",
   "metadata": {},
   "outputs": [],
   "source": [
    "t=np.arange(0,100,5)"
   ]
  },
  {
   "cell_type": "code",
   "execution_count": 29,
   "id": "fd700f0d-6957-4d9c-8e86-9fc93d08f695",
   "metadata": {},
   "outputs": [
    {
     "data": {
      "text/plain": [
       "array([ 0,  5, 10, 15, 20, 25, 30, 35, 40, 45, 50, 55, 60, 65, 70, 75, 80,\n",
       "       85, 90, 95])"
      ]
     },
     "execution_count": 29,
     "metadata": {},
     "output_type": "execute_result"
    }
   ],
   "source": [
    "t"
   ]
  },
  {
   "cell_type": "code",
   "execution_count": 30,
   "id": "72175a7e-73da-4906-95c6-9324b2ea4c78",
   "metadata": {},
   "outputs": [],
   "source": [
    "f=np.linspace(5,50,5)"
   ]
  },
  {
   "cell_type": "code",
   "execution_count": 31,
   "id": "5344b753-5217-4668-875f-848194b0d4a1",
   "metadata": {},
   "outputs": [
    {
     "data": {
      "text/plain": [
       "array([ 5.  , 16.25, 27.5 , 38.75, 50.  ])"
      ]
     },
     "execution_count": 31,
     "metadata": {},
     "output_type": "execute_result"
    }
   ],
   "source": [
    "f"
   ]
  },
  {
   "cell_type": "code",
   "execution_count": 32,
   "id": "fc84354a-2cbd-4bfc-98a2-e41cb872ee85",
   "metadata": {},
   "outputs": [],
   "source": [
    "i=np.eye(3)"
   ]
  },
  {
   "cell_type": "code",
   "execution_count": 33,
   "id": "b0c75c7a-7809-4eb0-8f26-b5766ba9512b",
   "metadata": {},
   "outputs": [
    {
     "data": {
      "text/plain": [
       "array([[1., 0., 0.],\n",
       "       [0., 1., 0.],\n",
       "       [0., 0., 1.]])"
      ]
     },
     "execution_count": 33,
     "metadata": {},
     "output_type": "execute_result"
    }
   ],
   "source": [
    "i\n"
   ]
  },
  {
   "cell_type": "code",
   "execution_count": null,
   "id": "5a4ea22d-fc8d-4332-9e49-20a31537f0fd",
   "metadata": {},
   "outputs": [],
   "source": [
    "#np.zeros((2, 3)) # 2x3 array of zeros\n",
    "#np.ones((2, 2)) # 2x2 array of ones\n",
    "#np.eye(3) # 3x3 identity matrix\n",
    "#np.arange(0, 10, 2) # [0, 2, 4, 6, 8]\n",
    "#np.linspace(0, 1, 5) # 5 values between 0 and 1"
   ]
  },
  {
   "cell_type": "code",
   "execution_count": 34,
   "id": "760a6539-ca84-431c-8bb4-db3129cd2044",
   "metadata": {},
   "outputs": [
    {
     "data": {
      "text/plain": [
       "array([1, 2, 3, 4])"
      ]
     },
     "execution_count": 34,
     "metadata": {},
     "output_type": "execute_result"
    }
   ],
   "source": [
    "s=np.array([1,2,3,4])\n",
    "s"
   ]
  },
  {
   "cell_type": "code",
   "execution_count": 35,
   "id": "7f40bafe-7624-413c-80d5-2a5998a90fe2",
   "metadata": {},
   "outputs": [
    {
     "data": {
      "text/plain": [
       "array([6, 7, 8, 9])"
      ]
     },
     "execution_count": 35,
     "metadata": {},
     "output_type": "execute_result"
    }
   ],
   "source": [
    "r=np.array([6,7,8,9])\n",
    "r"
   ]
  },
  {
   "cell_type": "code",
   "execution_count": null,
   "id": "5b7f6c6b-56ac-4caa-83be-cc4f161ce774",
   "metadata": {},
   "outputs": [],
   "source": [
    "#element wise operation"
   ]
  },
  {
   "cell_type": "code",
   "execution_count": 36,
   "id": "b71e68a5-8ebd-457e-b1b0-1decafc96b6d",
   "metadata": {},
   "outputs": [
    {
     "data": {
      "text/plain": [
       "array([ 7,  9, 11, 13])"
      ]
     },
     "execution_count": 36,
     "metadata": {},
     "output_type": "execute_result"
    }
   ],
   "source": [
    "s+r"
   ]
  },
  {
   "cell_type": "code",
   "execution_count": 37,
   "id": "cf249b4b-13a0-4974-ab9f-0bef7b833b78",
   "metadata": {},
   "outputs": [
    {
     "data": {
      "text/plain": [
       "array([ 6, 14, 24, 36])"
      ]
     },
     "execution_count": 37,
     "metadata": {},
     "output_type": "execute_result"
    }
   ],
   "source": [
    "s*r"
   ]
  },
  {
   "cell_type": "code",
   "execution_count": 40,
   "id": "2b0a7f3d-c422-46c9-9505-ac88fa8631b7",
   "metadata": {},
   "outputs": [
    {
     "data": {
      "text/plain": [
       "array([ 1,  4,  9, 16])"
      ]
     },
     "execution_count": 40,
     "metadata": {},
     "output_type": "execute_result"
    }
   ],
   "source": [
    "s**2"
   ]
  },
  {
   "cell_type": "code",
   "execution_count": 42,
   "id": "188c3f51-2820-4ece-ab5c-f7e033364514",
   "metadata": {},
   "outputs": [],
   "source": [
    "y=np.dot(s,r)"
   ]
  },
  {
   "cell_type": "code",
   "execution_count": 43,
   "id": "ef003c6d-8d8d-40ec-9508-2594fbb06e9a",
   "metadata": {},
   "outputs": [
    {
     "data": {
      "text/plain": [
       "np.int64(80)"
      ]
     },
     "execution_count": 43,
     "metadata": {},
     "output_type": "execute_result"
    }
   ],
   "source": [
    "y"
   ]
  },
  {
   "cell_type": "code",
   "execution_count": 45,
   "id": "0430c713-87ab-4890-b663-c591f355348d",
   "metadata": {},
   "outputs": [],
   "source": [
    "k=np.array([5,6,7],dtype=float)"
   ]
  },
  {
   "cell_type": "code",
   "execution_count": null,
   "id": "1ed93c39-bdf8-4392-b08e-2860d604bc6b",
   "metadata": {},
   "outputs": [],
   "source": [
    "Create two d"
   ]
  },
  {
   "cell_type": "code",
   "execution_count": 48,
   "id": "1ac8c38f-3903-4af1-82b4-fa5c0a881784",
   "metadata": {},
   "outputs": [],
   "source": [
    "c=np.array([[2,3,6],[4,5,9]])"
   ]
  },
  {
   "cell_type": "code",
   "execution_count": 49,
   "id": "6612afb3-d1d3-4e46-96b8-d02588b131b3",
   "metadata": {},
   "outputs": [],
   "source": [
    "d=np.array([[8,3,4],[7,11,1]])"
   ]
  },
  {
   "cell_type": "code",
   "execution_count": 50,
   "id": "c137e271-d863-4200-8ea3-f636048b56c5",
   "metadata": {},
   "outputs": [
    {
     "data": {
      "text/plain": [
       "array([[2, 3, 6],\n",
       "       [4, 5, 9]])"
      ]
     },
     "execution_count": 50,
     "metadata": {},
     "output_type": "execute_result"
    }
   ],
   "source": [
    "c\n"
   ]
  },
  {
   "cell_type": "code",
   "execution_count": 51,
   "id": "78caec0d-e94e-41f6-9218-00d39f022050",
   "metadata": {},
   "outputs": [
    {
     "data": {
      "text/plain": [
       "array([[ 8,  3,  4],\n",
       "       [ 7, 11,  1]])"
      ]
     },
     "execution_count": 51,
     "metadata": {},
     "output_type": "execute_result"
    }
   ],
   "source": [
    "d"
   ]
  },
  {
   "cell_type": "code",
   "execution_count": 52,
   "id": "6d65c5a5-14e1-411b-8fc5-2165bc3ea46b",
   "metadata": {},
   "outputs": [
    {
     "data": {
      "text/plain": [
       "array([[10,  6, 10],\n",
       "       [11, 16, 10]])"
      ]
     },
     "execution_count": 52,
     "metadata": {},
     "output_type": "execute_result"
    }
   ],
   "source": [
    "c+d"
   ]
  },
  {
   "cell_type": "code",
   "execution_count": 53,
   "id": "487587b5-0477-4123-86d4-c9466ffbde64",
   "metadata": {},
   "outputs": [
    {
     "data": {
      "text/plain": [
       "array([[16,  9, 24],\n",
       "       [28, 55,  9]])"
      ]
     },
     "execution_count": 53,
     "metadata": {},
     "output_type": "execute_result"
    }
   ],
   "source": [
    "c*d"
   ]
  },
  {
   "cell_type": "code",
   "execution_count": 54,
   "id": "a0ec1a53-92c9-4b31-9868-f4ab2b505a47",
   "metadata": {},
   "outputs": [
    {
     "data": {
      "text/plain": [
       "array([[ 4,  9, 36],\n",
       "       [16, 25, 81]])"
      ]
     },
     "execution_count": 54,
     "metadata": {},
     "output_type": "execute_result"
    }
   ],
   "source": [
    "c**2"
   ]
  },
  {
   "cell_type": "code",
   "execution_count": 55,
   "id": "1bc97585-9b08-4c87-9764-4b4d9ad2e227",
   "metadata": {},
   "outputs": [
    {
     "ename": "ValueError",
     "evalue": "shapes (2,3) and (2,3) not aligned: 3 (dim 1) != 2 (dim 0)",
     "output_type": "error",
     "traceback": [
      "\u001b[31m---------------------------------------------------------------------------\u001b[39m",
      "\u001b[31mValueError\u001b[39m                                Traceback (most recent call last)",
      "\u001b[36mCell\u001b[39m\u001b[36m \u001b[39m\u001b[32mIn[55]\u001b[39m\u001b[32m, line 1\u001b[39m\n\u001b[32m----> \u001b[39m\u001b[32m1\u001b[39m z=\u001b[43mnp\u001b[49m\u001b[43m.\u001b[49m\u001b[43mdot\u001b[49m\u001b[43m(\u001b[49m\u001b[43mc\u001b[49m\u001b[43m,\u001b[49m\u001b[43md\u001b[49m\u001b[43m)\u001b[49m\n",
      "\u001b[31mValueError\u001b[39m: shapes (2,3) and (2,3) not aligned: 3 (dim 1) != 2 (dim 0)"
     ]
    }
   ],
   "source": [
    "z=np.dot(c,d) #since there no proper dimension formed it will throw error"
   ]
  },
  {
   "cell_type": "code",
   "execution_count": 56,
   "id": "153b1fcc-85d9-4c52-9496-38e1f8b59df6",
   "metadata": {},
   "outputs": [],
   "source": [
    "d=d.reshape(3,2)"
   ]
  },
  {
   "cell_type": "code",
   "execution_count": 57,
   "id": "d6d79254-04bd-44c0-9010-4816796d1945",
   "metadata": {},
   "outputs": [],
   "source": [
    "z=np.dot(c,d)"
   ]
  },
  {
   "cell_type": "code",
   "execution_count": 58,
   "id": "a784d30b-ea57-4e0b-a9c9-67b1479222ce",
   "metadata": {},
   "outputs": [
    {
     "data": {
      "text/plain": [
       "array([[ 94,  33],\n",
       "       [151,  56]])"
      ]
     },
     "execution_count": 58,
     "metadata": {},
     "output_type": "execute_result"
    }
   ],
   "source": [
    "z"
   ]
  },
  {
   "cell_type": "code",
   "execution_count": 61,
   "id": "53f8357b-ab2d-4dd9-9dcb-15c08cc40aaf",
   "metadata": {},
   "outputs": [],
   "source": [
    "w=np.mean(s)"
   ]
  },
  {
   "cell_type": "code",
   "execution_count": 62,
   "id": "a61719a3-487d-4788-baeb-bca7fe0b19cb",
   "metadata": {},
   "outputs": [
    {
     "data": {
      "text/plain": [
       "np.float64(2.5)"
      ]
     },
     "execution_count": 62,
     "metadata": {},
     "output_type": "execute_result"
    }
   ],
   "source": [
    "w"
   ]
  },
  {
   "cell_type": "code",
   "execution_count": 63,
   "id": "2095075a-c77f-47f5-8a8e-615edcf17027",
   "metadata": {},
   "outputs": [],
   "source": [
    "f=np.median(s) #no mode"
   ]
  },
  {
   "cell_type": "code",
   "execution_count": 64,
   "id": "e445a882-30e6-499c-a827-928237d05148",
   "metadata": {},
   "outputs": [
    {
     "data": {
      "text/plain": [
       "np.float64(2.5)"
      ]
     },
     "execution_count": 64,
     "metadata": {},
     "output_type": "execute_result"
    }
   ],
   "source": [
    "f"
   ]
  },
  {
   "cell_type": "code",
   "execution_count": 65,
   "id": "d8206594-8a37-4b6b-b262-c71d7da930c9",
   "metadata": {},
   "outputs": [],
   "source": [
    "u=np.std(s)"
   ]
  },
  {
   "cell_type": "code",
   "execution_count": 66,
   "id": "1685cbab-cdfe-4848-a91c-e757d12dbe8d",
   "metadata": {},
   "outputs": [
    {
     "data": {
      "text/plain": [
       "np.float64(1.118033988749895)"
      ]
     },
     "execution_count": 66,
     "metadata": {},
     "output_type": "execute_result"
    }
   ],
   "source": [
    "u"
   ]
  },
  {
   "cell_type": "code",
   "execution_count": 67,
   "id": "29d8ea20-a379-4a6d-831d-bf348c32d05c",
   "metadata": {},
   "outputs": [],
   "source": [
    "q=np.sin(s)"
   ]
  },
  {
   "cell_type": "code",
   "execution_count": 68,
   "id": "bc05a5b4-e31d-4aee-a7f0-976556e72872",
   "metadata": {},
   "outputs": [
    {
     "data": {
      "text/plain": [
       "array([ 0.84147098,  0.90929743,  0.14112001, -0.7568025 ])"
      ]
     },
     "execution_count": 68,
     "metadata": {},
     "output_type": "execute_result"
    }
   ],
   "source": [
    "q"
   ]
  },
  {
   "cell_type": "code",
   "execution_count": 70,
   "id": "50567c8e-aef2-40bc-961b-311e1168cdda",
   "metadata": {},
   "outputs": [
    {
     "data": {
      "text/plain": [
       "array([1, 2, 3, 4])"
      ]
     },
     "execution_count": 70,
     "metadata": {},
     "output_type": "execute_result"
    }
   ],
   "source": [
    "np.unique(s)"
   ]
  },
  {
   "cell_type": "code",
   "execution_count": 71,
   "id": "3ae16490-4ec0-4eba-90f6-0c852e140438",
   "metadata": {},
   "outputs": [
    {
     "data": {
      "text/plain": [
       "array([1, 2, 3, 4])"
      ]
     },
     "execution_count": 71,
     "metadata": {},
     "output_type": "execute_result"
    }
   ],
   "source": [
    "np.sort(s)"
   ]
  },
  {
   "cell_type": "code",
   "execution_count": 73,
   "id": "b9a264d7-6c47-4225-83f5-0b86cb145934",
   "metadata": {},
   "outputs": [
    {
     "data": {
      "text/plain": [
       "array([1, 2, 3, 4, 6, 7, 8, 9])"
      ]
     },
     "execution_count": 73,
     "metadata": {},
     "output_type": "execute_result"
    }
   ],
   "source": [
    "np.concatenate([s,r])"
   ]
  },
  {
   "cell_type": "code",
   "execution_count": null,
   "id": "0348b54d-0766-4723-a650-c42920eb7c4e",
   "metadata": {},
   "outputs": [],
   "source": []
  }
 ],
 "metadata": {
  "kernelspec": {
   "display_name": "Python 3 (ipykernel)",
   "language": "python",
   "name": "python3"
  },
  "language_info": {
   "codemirror_mode": {
    "name": "ipython",
    "version": 3
   },
   "file_extension": ".py",
   "mimetype": "text/x-python",
   "name": "python",
   "nbconvert_exporter": "python",
   "pygments_lexer": "ipython3",
   "version": "3.13.3"
  }
 },
 "nbformat": 4,
 "nbformat_minor": 5
}
