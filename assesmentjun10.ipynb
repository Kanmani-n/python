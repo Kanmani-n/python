{
 "cells": [
  {
   "cell_type": "code",
   "execution_count": null,
   "id": "efcd63f7-b9d7-4afd-9b44-35923ea3bbf5",
   "metadata": {},
   "outputs": [],
   "source": [
    "#1.create a list which contains all datatypes"
   ]
  },
  {
   "cell_type": "code",
   "execution_count": 6,
   "id": "4d4cf184-deca-4a18-95f0-d4c12aae9b5a",
   "metadata": {},
   "outputs": [
    {
     "data": {
      "text/plain": [
       "[3, 'hello', 5.6, True, (3+4j)]"
      ]
     },
     "execution_count": 6,
     "metadata": {},
     "output_type": "execute_result"
    }
   ],
   "source": [
    "l = [ 3 , \"hello\" , 5.6 , True , (3+4J)]\n",
    "l"
   ]
  },
  {
   "cell_type": "code",
   "execution_count": null,
   "id": "5e045be6-55ce-4d85-8753-a50a027b0cac",
   "metadata": {},
   "outputs": [],
   "source": [
    "#2.want a tuple which contains only even numbers "
   ]
  },
  {
   "cell_type": "code",
   "execution_count": 5,
   "id": "b61f6311-16cc-48ec-b591-77b54dcedd60",
   "metadata": {},
   "outputs": [
    {
     "data": {
      "text/plain": [
       "(2, 4, 6, 8)"
      ]
     },
     "execution_count": 5,
     "metadata": {},
     "output_type": "execute_result"
    }
   ],
   "source": [
    "a = (2 , 4, 6, 8)\n",
    "a"
   ]
  },
  {
   "cell_type": "code",
   "execution_count": null,
   "id": "243af9bc-591b-40fe-bdff-c710042ed5b2",
   "metadata": {},
   "outputs": [],
   "source": [
    "#3.dictionary of a person it should contain 5 key value pairs"
   ]
  },
  {
   "cell_type": "code",
   "execution_count": 4,
   "id": "e402c2f6-9da5-4334-bd4d-b5774d34a57a",
   "metadata": {},
   "outputs": [
    {
     "data": {
      "text/plain": [
       "{'name': 'kanmani',\n",
       " 'age': 33,\n",
       " 'city': 'chennai',\n",
       " 'salary': 70000,\n",
       " 'phno': '9943567889'}"
      ]
     },
     "execution_count": 4,
     "metadata": {},
     "output_type": "execute_result"
    }
   ],
   "source": [
    "profile = {'name':'kanmani' ,'age':33 ,'city':'chennai' , 'salary':70000 ,'phno' : '9943567889'}\n",
    "profile\n"
   ]
  },
  {
   "cell_type": "code",
   "execution_count": 7,
   "id": "9785ce2b-ab6e-4691-bbc6-11f670e72db4",
   "metadata": {},
   "outputs": [
    {
     "data": {
      "text/plain": [
       "dict"
      ]
     },
     "execution_count": 7,
     "metadata": {},
     "output_type": "execute_result"
    }
   ],
   "source": [
    "type(profile)"
   ]
  },
  {
   "cell_type": "code",
   "execution_count": null,
   "id": "8be1506b-03dc-4586-8114-f87d4b83cdcc",
   "metadata": {},
   "outputs": [],
   "source": [
    "#4 creating a set with repeated values"
   ]
  },
  {
   "cell_type": "code",
   "execution_count": 1,
   "id": "0876e20a-eb01-4468-9244-2f65f6ee6bbb",
   "metadata": {},
   "outputs": [],
   "source": [
    "s = {1 , 2 , 2, 4, 4 , 7 , 7}"
   ]
  },
  {
   "cell_type": "code",
   "execution_count": 2,
   "id": "18663345-95f6-4b47-b7cf-4a5aaa88cfb5",
   "metadata": {},
   "outputs": [
    {
     "data": {
      "text/plain": [
       "{1, 2, 4, 7}"
      ]
     },
     "execution_count": 2,
     "metadata": {},
     "output_type": "execute_result"
    }
   ],
   "source": [
    "s"
   ]
  },
  {
   "cell_type": "code",
   "execution_count": 3,
   "id": "ba37ca31-9019-49c2-8837-f919aa596fa5",
   "metadata": {},
   "outputs": [
    {
     "data": {
      "text/plain": [
       "set"
      ]
     },
     "execution_count": 3,
     "metadata": {},
     "output_type": "execute_result"
    }
   ],
   "source": [
    "type(s)"
   ]
  },
  {
   "cell_type": "code",
   "execution_count": null,
   "id": "02505fac-b9ee-49ae-bcd7-3daa7e74b2c5",
   "metadata": {},
   "outputs": [],
   "source": [
    "#5.elif ladder 1 monday "
   ]
  },
  {
   "cell_type": "code",
   "execution_count": 9,
   "id": "056cdc92-5c20-4bf5-82df-29b93b4368dd",
   "metadata": {},
   "outputs": [
    {
     "name": "stdin",
     "output_type": "stream",
     "text": [
      "enter the number 1 to 7 6\n"
     ]
    },
    {
     "name": "stdout",
     "output_type": "stream",
     "text": [
      "saturday\n"
     ]
    }
   ],
   "source": [
    "a = int(input(\"enter the number 1 to 7\"))\n",
    "if a == 1:\n",
    "   print(\"monday\")\n",
    "elif a == 2:\n",
    "    print(\"tuesday\")\n",
    "elif a == 3:\n",
    "    print(\"wednesday\")\n",
    "elif a == 4:\n",
    "    print(\"thursday\")\n",
    "elif a == 5:\n",
    "    print(\"friday\")\n",
    "elif a == 6:\n",
    "    print(\"saturday\")\n",
    "elif a == 7:\n",
    "    print(\"sunday\") \n",
    "                    "
   ]
  },
  {
   "cell_type": "code",
   "execution_count": null,
   "id": "d434e96d-a31c-45f1-b145-0c311105ec96",
   "metadata": {},
   "outputs": [],
   "source": [
    "#6 .print each charater of string using for loop"
   ]
  },
  {
   "cell_type": "code",
   "execution_count": 18,
   "id": "b001d724-ea69-45f3-9afe-b19c9e0f0727",
   "metadata": {},
   "outputs": [
    {
     "name": "stdin",
     "output_type": "stream",
     "text": [
      "enter the string apple\n"
     ]
    },
    {
     "name": "stdout",
     "output_type": "stream",
     "text": [
      "a\n",
      "p\n",
      "p\n",
      "l\n",
      "e\n"
     ]
    }
   ],
   "source": [
    "b = input(\"enter the string\")\n",
    "for i in b:\n",
    "   print(i)\n",
    "           \n",
    "           "
   ]
  },
  {
   "cell_type": "code",
   "execution_count": null,
   "id": "e91daf6d-686c-40ee-9ad9-1ac77d263bf0",
   "metadata": {},
   "outputs": [],
   "source": [
    "#7 .Take a comma-separated string of integers, remove duplicates, sort them in descending order, and return the\n",
    "#median."
   ]
  },
  {
   "cell_type": "code",
   "execution_count": 1,
   "id": "de6f324c-5f8d-4f2f-ad97-5d8aa267fc21",
   "metadata": {},
   "outputs": [
    {
     "name": "stdin",
     "output_type": "stream",
     "text": [
      "enter the numbers 8,7,9,5\n"
     ]
    },
    {
     "name": "stdout",
     "output_type": "stream",
     "text": [
      "['8', '7', '9', '5']\n",
      "{'7', '8', '9', '5'}\n",
      "['7', '8', '9', '5']\n",
      "4\n"
     ]
    }
   ],
   "source": [
    "e = input(\"enter the numbers\")\n",
    "f = e.split(\",\")\n",
    "print(f)\n",
    "f.sort()\n",
    "d = (set(f))\n",
    "print(d)\n",
    "i = list(d)\n",
    "print(i)\n",
    "g = len(i)\n",
    "print(g)\n",
    "if g%2 == 1:\n",
    "   m = i[g // 2]\n",
    "else:\n",
    "   m =(i[g // 2 - 1] + i[g // 2]) /2\n",
    "print(m)\n",
    "     \n"
   ]
  },
  {
   "cell_type": "code",
   "execution_count": null,
   "id": "b2a8c502-f5ac-47f9-b671-eb430cdd1add",
   "metadata": {},
   "outputs": [],
   "source": [
    "#8.From a nested dictionary of employees, count how many employees have a salary greater than 50,000."
   ]
  },
  {
   "cell_type": "code",
   "execution_count": 18,
   "id": "d9003eb7-0900-48a0-99f7-abf9a903067d",
   "metadata": {},
   "outputs": [
    {
     "name": "stdout",
     "output_type": "stream",
     "text": [
      "1\n",
      "2\n",
      "3\n"
     ]
    }
   ],
   "source": [
    "emp = {'e1': {'name':'meena','salary':80000},\n",
    "     'e2': {'name':'ramya','salary':20000},\n",
    "       'e3': {'name':'gita','salary':60000},\n",
    "       'e4': {'name':'sita','salary':56000}}\n",
    "count = 0\n",
    "for i in emp.values():\n",
    " if i['salary'] > 50000:\n",
    "     count += 1\n",
    "     print(count)"
   ]
  },
  {
   "cell_type": "code",
   "execution_count": null,
   "id": "76ba3a4a-daa6-4094-83db-73b1cf5359be",
   "metadata": {},
   "outputs": [],
   "source": [
    "#9.Take 3 integers and print the largest among them only if it is even and not divisible by 4. Otherwise, print\n",
    "#\"Not Eligible\"."
   ]
  },
  {
   "cell_type": "code",
   "execution_count": 74,
   "id": "314edaf6-59a6-4902-b6b5-9b0089f096fc",
   "metadata": {},
   "outputs": [
    {
     "name": "stdin",
     "output_type": "stream",
     "text": [
      "enter the 1st number 12\n",
      "enter the 2nd number 24\n",
      "enter the 3rd number 38\n"
     ]
    },
    {
     "name": "stdout",
     "output_type": "stream",
     "text": [
      "38\n"
     ]
    }
   ],
   "source": [
    "n1 = int(input(\"enter the 1st number\"))\n",
    "n2 = int(input(\"enter the 2nd number\"))\n",
    "n3 = int(input(\"enter the 3rd number\"))\n",
    "l = max(n1,n2,n3)\n",
    "if l % 2 == 0 and l % 4 !=0:\n",
    "  print(l)\n",
    "else:\n",
    "  print(\"not eligible\")"
   ]
  },
  {
   "cell_type": "code",
   "execution_count": null,
   "id": "01ee7419-237d-44f2-885a-8c2479573cd2",
   "metadata": {},
   "outputs": [],
   "source": [
    "#10.From a given string, count how many alphabets appear immediately after a digit.\n",
    "#sample input - a3b4c5d"
   ]
  },
  {
   "cell_type": "code",
   "execution_count": 25,
   "id": "38b5effc-ea29-4e11-8d52-cee9a4600b08",
   "metadata": {},
   "outputs": [
    {
     "name": "stdin",
     "output_type": "stream",
     "text": [
      "enter alphanumeric string 1a2d6f8g\n"
     ]
    },
    {
     "name": "stdout",
     "output_type": "stream",
     "text": [
      "4\n"
     ]
    }
   ],
   "source": [
    "a=input('enter alphanumeric string')\n",
    "count=0\n",
    "for i in range(1,len(a)):\n",
    " if a[i].isalpha() and a[i-1].isdigit():\n",
    "    count+=1\n",
    "print(count)"
   ]
  },
  {
   "cell_type": "code",
   "execution_count": null,
   "id": "259b12d4-812b-4e4b-9b49-1a5be85b9fbb",
   "metadata": {},
   "outputs": [],
   "source": [
    "#11.Create two lists: one with names and one with corresponding ages. Store all names where the age is strictly\n",
    "#greater than 18 in a separate list. Ensure both lists have equal length."
   ]
  },
  {
   "cell_type": "code",
   "execution_count": 43,
   "id": "1303683f-5204-46ee-96e1-e99521f14b5d",
   "metadata": {},
   "outputs": [
    {
     "name": "stdout",
     "output_type": "stream",
     "text": [
      "['rani', 'gita', 'ramya', 'nilan', 'suresh', 12, 34, 16, 19, 22]\n"
     ]
    }
   ],
   "source": [
    "name = [\"rani\", \"gita\", \"ramya\", \"nilan\", \"suresh\"]\n",
    "age = [12,34,16,19,22]\n",
    "type(name)\n",
    "p = name + age\n",
    "print(p)\n"
   ]
  },
  {
   "cell_type": "code",
   "execution_count": 46,
   "id": "966df279-71d8-4f3b-92f7-0aa584a9b8b2",
   "metadata": {},
   "outputs": [
    {
     "name": "stdout",
     "output_type": "stream",
     "text": [
      "names are  [['rani', 'gita', 'ramya', 'nilan', 'suresh'], ['rani', 'gita', 'ramya', 'nilan', 'suresh'], ['rani', 'gita', 'ramya', 'nilan', 'suresh']]\n"
     ]
    }
   ],
   "source": [
    "r = []\n",
    "for i in age:\n",
    "    if int(i) > 18:\n",
    "     r.append(name)\n",
    "print(\"names are \",r)"
   ]
  },
  {
   "cell_type": "code",
   "execution_count": null,
   "id": "b932e9a3-4ef3-4c71-9bca-81787bd058a8",
   "metadata": {},
   "outputs": [],
   "source": []
  },
  {
   "cell_type": "code",
   "execution_count": 15,
   "id": "e7f05daf-1649-4ce9-9e59-711489bf5feb",
   "metadata": {},
   "outputs": [
    {
     "name": "stdin",
     "output_type": "stream",
     "text": [
      "Enter comma-separated integers:  1,1,2,2,6,7\n"
     ]
    },
    {
     "name": "stdout",
     "output_type": "stream",
     "text": [
      "Sorted list (descending): [7, 6, 2, 1]\n",
      "Median: 4.0\n"
     ]
    }
   ],
   "source": [
    "#Step 1: Take input\n",
    "input_str = input(\"Enter comma-separated integers: \")\n",
    "\n",
    "#Step 2: Split the string and convert to integers\n",
    "numbers = input_str.split(\",\")\n",
    "numbers = [int(num) for num in numbers]\n",
    "\n",
    "#Step 3: Remove duplicates using set, then convert back to list\n",
    "numbers = list(set(numbers))\n",
    "\n",
    "#Step 4: Sort the list in descending order\n",
    "numbers.sort(reverse=True)\n",
    "\n",
    "#Step 5: Find the median\n",
    "length = len(numbers)\n",
    "if length % 2 == 1:\n",
    " median = numbers[length // 2]\n",
    "else:\n",
    " median = (numbers[length // 2 - 1] + numbers[length // 2]) / 2\n",
    "\n",
    "#Step 6: Print the result\n",
    "print(\"Sorted list (descending):\", numbers)\n",
    "print(\"Median:\", median)"
   ]
  },
  {
   "cell_type": "code",
   "execution_count": 17,
   "id": "72988b76-caa8-49ab-9660-fd6107b7d1b4",
   "metadata": {},
   "outputs": [
    {
     "name": "stdin",
     "output_type": "stream",
     "text": [
      "Enter first number:  16\n",
      "Enter second number:  8\n",
      "Enter third number:  10\n"
     ]
    },
    {
     "name": "stdout",
     "output_type": "stream",
     "text": [
      "Not Eligible\n"
     ]
    }
   ],
   "source": [
    "# Step 1: Take 3 integer inputs\n",
    "a = int(input(\"Enter first number: \"))\n",
    "b = int(input(\"Enter second number: \"))\n",
    "c = int(input(\"Enter third number: \"))\n",
    "\n",
    "#Step 2: Find the largest\n",
    "largest = max(a, b, c)\n",
    "\n",
    "#Step 3: Check the condition\n",
    "if largest % 2 == 0 and largest % 4 != 0:\n",
    " print(\"Largest eligible number:\", largest)\n",
    "else:\n",
    " print(\"Not Eligible\")"
   ]
  },
  {
   "cell_type": "code",
   "execution_count": 19,
   "id": "c3c7c9fc-d273-4068-b2c9-2fd09efb5ca9",
   "metadata": {},
   "outputs": [
    {
     "name": "stdin",
     "output_type": "stream",
     "text": [
      "Enter 3 numbers (comma or space separated):  8,16,10\n"
     ]
    },
    {
     "name": "stdout",
     "output_type": "stream",
     "text": [
      "Not Eligible\n"
     ]
    }
   ],
   "source": [
    "#Take input as space-separated or comma-separated values\n",
    "input_str = input(\"Enter 3 numbers (comma or space separated): \")\n",
    "\n",
    "#Split and convert to integers\n",
    "if ',' in input_str:\n",
    " nums = [int(x) for x in input_str.split(',')]\n",
    "else:\n",
    " nums = [int(x) for x in input_str.split()]\n",
    "\n",
    "#Use for loop to find the largest\n",
    "largest = nums[0]\n",
    "for num in nums[1:]:\n",
    " if num > largest:\n",
    "    largest = num\n",
    "\n",
    "#Check condition\n",
    "if largest % 2 == 0 and largest % 4 != 0:\n",
    " print(\"Largest eligible number:\", largest)\n",
    "else:\n",
    " print(\"Not Eligible\")"
   ]
  },
  {
   "cell_type": "code",
   "execution_count": 23,
   "id": "ad535843-7315-40ad-bfca-c2b2b954a771",
   "metadata": {},
   "outputs": [
    {
     "name": "stdin",
     "output_type": "stream",
     "text": [
      "Enter 3 numbers (comma or space separated):  18,12,10\n"
     ]
    },
    {
     "name": "stdout",
     "output_type": "stream",
     "text": [
      "Largest eligible number: 18\n"
     ]
    }
   ],
   "source": [
    "#Take input\n",
    "input_str = input(\"Enter 3 numbers (comma or space separated): \")\n",
    "\n",
    "#Convert to list of integers\n",
    "if ',' in input_str:\n",
    " nums = [int(x) for x in input_str.split(',')]\n",
    "else:\n",
    " nums = [int(x) for x in input_str.split()]\n",
    "\n",
    "#Filter only even numbers not divisible by 4\n",
    "eligible = []\n",
    "for num in nums:\n",
    " if num % 2 == 0 and num % 4 != 0:\n",
    "    eligible.append(num)\n",
    "\n",
    "#Check and print result\n",
    "if eligible:\n",
    " largest = eligible[0]\n",
    " for num in eligible[1:]:\n",
    "     if num > largest:\n",
    "        largest = num\n",
    " print(\"Largest eligible number:\", largest)\n",
    "else:\n",
    " print(\"Not Eligible\")"
   ]
  },
  {
   "cell_type": "code",
   "execution_count": 27,
   "id": "ff9866a8-9a84-4b14-84a4-6bb9b197cbe9",
   "metadata": {},
   "outputs": [
    {
     "name": "stdout",
     "output_type": "stream",
     "text": [
      "['abc', 'ghi']\n",
      "[19, 20]\n"
     ]
    }
   ],
   "source": [
    "names=['abc','def','ghi']\n",
    "ages=[19,16,20]\n",
    "name=[]\n",
    "age=[]\n",
    "\n",
    "for i in range(len(names)) :\n",
    " if ages[i]>18:\n",
    "    name.append(names[i])\n",
    "    age.append(ages[i])\n",
    "print(name)\n",
    "print(age)"
   ]
  },
  {
   "cell_type": "code",
   "execution_count": null,
   "id": "74a86ae0-a73a-483b-a949-97bdb5009fbe",
   "metadata": {},
   "outputs": [],
   "source": []
  }
 ],
 "metadata": {
  "kernelspec": {
   "display_name": "Python 3 (ipykernel)",
   "language": "python",
   "name": "python3"
  },
  "language_info": {
   "codemirror_mode": {
    "name": "ipython",
    "version": 3
   },
   "file_extension": ".py",
   "mimetype": "text/x-python",
   "name": "python",
   "nbconvert_exporter": "python",
   "pygments_lexer": "ipython3",
   "version": "3.13.3"
  }
 },
 "nbformat": 4,
 "nbformat_minor": 5
}
