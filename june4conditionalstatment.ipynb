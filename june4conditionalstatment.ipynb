{
 "cells": [
  {
   "cell_type": "code",
   "execution_count": null,
   "id": "5c74d6e0-2101-4ea1-9e1e-cdbce9adbf78",
   "metadata": {},
   "outputs": [],
   "source": [
    "#if else statments\n",
    "if condition:\n",
    "    code block if condition is True\n",
    "else:\n",
    "    code block if condition is False"
   ]
  },
  {
   "cell_type": "code",
   "execution_count": 2,
   "id": "a99878ff-8afd-4e85-a881-dfcce330c008",
   "metadata": {},
   "outputs": [
    {
     "name": "stdout",
     "output_type": "stream",
     "text": [
      "your are not eligible to vote\n"
     ]
    }
   ],
   "source": [
    "age = 15\n",
    "if age >= 18 :\n",
    "    print (\" your are eligible to vote\")\n",
    "else:\n",
    "    print (\"your are not eligible to vote\")"
   ]
  },
  {
   "cell_type": "markdown",
   "id": "ac5a5ec8-46d3-4214-8084-b751f8c6862c",
   "metadata": {},
   "source": [
    "age = int(input(\"enter your age\"))\n",
    "if age >= 18 :\n",
    "    print (\" your are eligible to vote\")\n",
    "else:\n",
    "    print (\"your are not eligible to vote\")"
   ]
  },
  {
   "cell_type": "code",
   "execution_count": 8,
   "id": "6ef37b27-fde2-4cb9-ac4c-c9169dd54ff1",
   "metadata": {},
   "outputs": [
    {
     "name": "stdin",
     "output_type": "stream",
     "text": [
      "Enter the number 0\n"
     ]
    },
    {
     "name": "stdout",
     "output_type": "stream",
     "text": [
      "number is negative \n"
     ]
    }
   ],
   "source": [
    "x = int(input(\"Enter the number\")) #1 \n",
    "if x >0 :\n",
    "    print(\" number is positive\")\n",
    "else:\n",
    "     print(\"number is negative \")\n",
    "    "
   ]
  },
  {
   "cell_type": "code",
   "execution_count": 11,
   "id": "79cef790-4e90-45d5-a1ef-81e194da1cc0",
   "metadata": {},
   "outputs": [
    {
     "name": "stdin",
     "output_type": "stream",
     "text": [
      "Enter the number -4\n"
     ]
    },
    {
     "name": "stdout",
     "output_type": "stream",
     "text": [
      "number is negative \n"
     ]
    }
   ],
   "source": [
    "x = int(input(\"Enter the number\")) # two conditions\n",
    "if x >0 :\n",
    "    print(\" number is positive\")\n",
    "elif x==0:\n",
    "    print(\"number is 0\")\n",
    "else:\n",
    "    print(\"number is negative \")"
   ]
  },
  {
   "cell_type": "code",
   "execution_count": null,
   "id": "397716f6-4dd3-429a-811f-fcb7b50987a6",
   "metadata": {},
   "outputs": [],
   "source": [
    "#1.Grade calculator #float\n",
    "90 and above - grade A\n",
    "75 to 89 - grade B\n",
    "60 to 74 - grade C\n",
    "below 60 - grade D\n",
    "\n",
    "\n"
   ]
  },
  {
   "cell_type": "code",
   "execution_count": null,
   "id": "2f18bd84-a3b7-47bf-b1e0-cb21a42402c9",
   "metadata": {},
   "outputs": [],
   "source": [
    "#nested if\n",
    "if condition1:\n",
    "    if condition2:\n",
    "   "
   ]
  },
  {
   "cell_type": "code",
   "execution_count": 14,
   "id": "9026b404-29a3-4632-981f-64be470f09c8",
   "metadata": {},
   "outputs": [
    {
     "name": "stdout",
     "output_type": "stream",
     "text": [
      "you need ID to vote\n"
     ]
    }
   ],
   "source": [
    "age = 20\n",
    "id = False\n",
    "if age >= 18:\n",
    "    if id:\n",
    "        print(\"you can vote\")\n",
    "    else:\n",
    "        print(\"you need ID to vote\")\n",
    "else:\n",
    "    print(\"your too young\")\n"
   ]
  },
  {
   "cell_type": "code",
   "execution_count": 3,
   "id": "60634b16-d3fa-4f56-890e-a17bbdf819b8",
   "metadata": {},
   "outputs": [
    {
     "name": "stdin",
     "output_type": "stream",
     "text": [
      "Enter your age:  34\n",
      "Do you have a valid ID? (yes/no):  No\n"
     ]
    },
    {
     "name": "stdout",
     "output_type": "stream",
     "text": [
      "You need a valid ID to enter.\n"
     ]
    }
   ],
   "source": [
    "age = int(input(\"Enter your age: \"))\n",
    "has_id = input(\"Do you have a valid ID? (yes/no): \")\n",
    "if age >= 18:\n",
    "   if has_id.lower() == \"yes\":\n",
    "    print(\"Access granted.\")\n",
    "   else:\n",
    "    print(\"You need a valid ID to enter.\")\n",
    "else:\n",
    "    print(\"You must be at least 18 years old.\")"
   ]
  },
  {
   "cell_type": "code",
   "execution_count": 22,
   "id": "fe7fb307-a374-447c-a472-2d265bcbf0ec",
   "metadata": {},
   "outputs": [],
   "source": [
    "#Student scholarship eligibility Condition 1 - 12th pass , condition 2 = score above 90 = eligibile otherwise not\n",
    "\n"
   ]
  },
  {
   "cell_type": "code",
   "execution_count": null,
   "id": "345dadee-b2fc-44aa-8418-09ce19153113",
   "metadata": {},
   "outputs": [],
   "source": [
    "#while - control statments\n",
    "while condition:\n",
    "    print( \"statment\")"
   ]
  },
  {
   "cell_type": "code",
   "execution_count": 3,
   "id": "d6249566-bb2b-4048-b52b-4ecc52c21930",
   "metadata": {},
   "outputs": [
    {
     "name": "stdout",
     "output_type": "stream",
     "text": [
      "0\n",
      "1\n",
      "2\n",
      "3\n",
      "4\n",
      "5\n"
     ]
    }
   ],
   "source": [
    "count = 0\n",
    "while count <= 5:\n",
    "    print(count)\n",
    "    count += 1\n"
   ]
  },
  {
   "cell_type": "code",
   "execution_count": 4,
   "id": "01cdf261-3cd6-4d7d-b344-6435725eadda",
   "metadata": {},
   "outputs": [
    {
     "name": "stdout",
     "output_type": "stream",
     "text": [
      "0\n",
      "1\n",
      "2\n",
      "3\n",
      "4\n",
      "5\n"
     ]
    }
   ],
   "source": [
    "count = 0\n",
    "while count <= 5:\n",
    "    print(count)\n",
    "    count += 1"
   ]
  },
  {
   "cell_type": "code",
   "execution_count": 7,
   "id": "62cba949-065f-40bc-a90c-8f916e2113a5",
   "metadata": {},
   "outputs": [
    {
     "name": "stdout",
     "output_type": "stream",
     "text": [
      "loop exit\n"
     ]
    }
   ],
   "source": [
    "count = 6\n",
    "while count <= 5:\n",
    "    print(count)\n",
    "    count += 1\n",
    "else:\n",
    "    print(\"loop exit\")"
   ]
  },
  {
   "cell_type": "code",
   "execution_count": 8,
   "id": "bc5e6ce2-99c4-4800-9adb-4e34ec268bd2",
   "metadata": {},
   "outputs": [
    {
     "name": "stdout",
     "output_type": "stream",
     "text": [
      "1\n",
      "2\n",
      "3\n",
      "4\n",
      "5\n"
     ]
    }
   ],
   "source": [
    "#break , continue\n",
    "x=1\n",
    "while x<10:\n",
    "    print(x)\n",
    "    if x==5:\n",
    "        break\n",
    "    x += 1\n"
   ]
  },
  {
   "cell_type": "code",
   "execution_count": 5,
   "id": "0493bef6-f573-4de2-811a-c1a0627bd0f5",
   "metadata": {},
   "outputs": [
    {
     "name": "stdout",
     "output_type": "stream",
     "text": [
      "2\n",
      "3\n",
      "4\n",
      "6\n",
      "7\n",
      "8\n",
      "9\n",
      "10\n"
     ]
    }
   ],
   "source": [
    "x=1\n",
    "while x<10:\n",
    "     x += 1\n",
    "     if x==5:\n",
    "        continue\n",
    "     print(x)\n",
    "   \n"
   ]
  },
  {
   "cell_type": "code",
   "execution_count": null,
   "id": "3ddaa0c7-8310-42bd-a18d-5e8fb7cdf132",
   "metadata": {},
   "outputs": [],
   "source": [
    "#print only even numbers from 1 to 20 using While loop\n",
    "#print numbers from 1 to 100 stop at 50 using break\n",
    "#print numbers from 1 to 100 stop at 50 using continue"
   ]
  },
  {
   "cell_type": "code",
   "execution_count": null,
   "id": "b5ce052a-01a5-460e-a3ca-7733f9e95117",
   "metadata": {},
   "outputs": [],
   "source": [
    "#for\n",
    "for variable in sequence:"
   ]
  },
  {
   "cell_type": "code",
   "execution_count": 5,
   "id": "615d3f6b-cde6-4529-a56b-2fafdf8077c6",
   "metadata": {},
   "outputs": [
    {
     "name": "stdout",
     "output_type": "stream",
     "text": [
      "0\n",
      "1\n",
      "2\n",
      "3\n",
      "4\n"
     ]
    }
   ],
   "source": [
    "for i in range(5):\n",
    "    print(i)"
   ]
  },
  {
   "cell_type": "code",
   "execution_count": 7,
   "id": "a69ed61b-d96d-4e08-bca5-b387afe43467",
   "metadata": {},
   "outputs": [
    {
     "data": {
      "text/plain": [
       "list"
      ]
     },
     "execution_count": 7,
     "metadata": {},
     "output_type": "execute_result"
    }
   ],
   "source": [
    "#list\n",
    "fruit = [\"apple\" ,\"grapes\" ,\"orange\" ,\"mango\" ,\"banana\"]\n",
    "fruit\n",
    "type(fruit)"
   ]
  },
  {
   "cell_type": "code",
   "execution_count": 8,
   "id": "ea7d5b7e-45f8-4360-8506-79c362d2b8be",
   "metadata": {},
   "outputs": [
    {
     "name": "stdout",
     "output_type": "stream",
     "text": [
      "apple\n",
      "grapes\n",
      "orange\n",
      "mango\n",
      "banana\n"
     ]
    }
   ],
   "source": [
    "for i in fruit: #list\n",
    "    print(i)"
   ]
  },
  {
   "cell_type": "code",
   "execution_count": 10,
   "id": "a6ba736f-4379-4fdc-a6c5-ad52e60c6148",
   "metadata": {},
   "outputs": [
    {
     "name": "stdout",
     "output_type": "stream",
     "text": [
      "0 apple\n",
      "1 grapes\n",
      "2 orange\n",
      "3 mango\n",
      "4 banana\n"
     ]
    }
   ],
   "source": [
    "for index , i in enumerate(fruit): #indexing\n",
    "    print(index , i)"
   ]
  },
  {
   "cell_type": "code",
   "execution_count": 11,
   "id": "e96ead79-2f4a-4006-8e68-a20a965681df",
   "metadata": {},
   "outputs": [
    {
     "name": "stdout",
     "output_type": "stream",
     "text": [
      "one: apple\n",
      "two: banana\n",
      "three: cherry\n",
      "four: mango\n",
      "five: orange\n"
     ]
    }
   ],
   "source": [
    "index_names = [\"one\", \"two\", \"three\", \"four\", \"five\"]\n",
    "fruits = [\"apple\", \"banana\", \"cherry\", \"mango\", \"orange\"]\n",
    "\n",
    "for idx, fruit in enumerate(fruits):\n",
    " print(f\"{index_names[idx]}: {fruit}\")"
   ]
  },
  {
   "cell_type": "code",
   "execution_count": null,
   "id": "f9a5b2f4-a6a9-4e8e-86e2-4876a6011200",
   "metadata": {},
   "outputs": [],
   "source": [
    "#create a list with positive values and negative values and 0 .print only positive values from the list\n",
    "#count the vowels in a given string"
   ]
  },
  {
   "cell_type": "code",
   "execution_count": 12,
   "id": "8fd52d51-e09e-4438-ba9e-a85d062e7190",
   "metadata": {},
   "outputs": [
    {
     "data": {
      "text/plain": [
       "[1, 2, 3, 4, 5, 6, 7, 8, 9, 10]"
      ]
     },
     "execution_count": 12,
     "metadata": {},
     "output_type": "execute_result"
    }
   ],
   "source": [
    "num = [1,2,3,4,5,6,7,8,9,10]\n",
    "num"
   ]
  },
  {
   "cell_type": "code",
   "execution_count": 13,
   "id": "c3747146-0868-4957-b29f-1b2b6f70e2bc",
   "metadata": {},
   "outputs": [
    {
     "ename": "TypeError",
     "evalue": "can't multiply sequence by non-int of type 'list'",
     "output_type": "error",
     "traceback": [
      "\u001b[31m---------------------------------------------------------------------------\u001b[39m",
      "\u001b[31mTypeError\u001b[39m                                 Traceback (most recent call last)",
      "\u001b[36mCell\u001b[39m\u001b[36m \u001b[39m\u001b[32mIn[13]\u001b[39m\u001b[32m, line 1\u001b[39m\n\u001b[32m----> \u001b[39m\u001b[32m1\u001b[39m \u001b[43mnum\u001b[49m\u001b[43m*\u001b[49m\u001b[43mnum\u001b[49m\n",
      "\u001b[31mTypeError\u001b[39m: can't multiply sequence by non-int of type 'list'"
     ]
    }
   ],
   "source": [
    "num*num"
   ]
  },
  {
   "cell_type": "code",
   "execution_count": 14,
   "id": "e6f065e8-e846-4ff3-aa56-2f173ec34f07",
   "metadata": {},
   "outputs": [
    {
     "data": {
      "text/plain": [
       "[1, 4, 9, 16, 25, 36, 49, 64, 81, 100]"
      ]
     },
     "execution_count": 14,
     "metadata": {},
     "output_type": "execute_result"
    }
   ],
   "source": [
    "square = [x**2 for x in num] # to find the square values\n",
    "square"
   ]
  },
  {
   "cell_type": "code",
   "execution_count": 16,
   "id": "be14829d-5fdb-4321-82cc-52cef9a87eb6",
   "metadata": {},
   "outputs": [
    {
     "data": {
      "text/plain": [
       "[1, 8, 27, 64, 125, 216, 343, 512, 729, 1000]"
      ]
     },
     "execution_count": 16,
     "metadata": {},
     "output_type": "execute_result"
    }
   ],
   "source": [
    "cube = [x**3 for x in num] #cube\n",
    "cube"
   ]
  },
  {
   "cell_type": "code",
   "execution_count": null,
   "id": "c1fd2985-016e-4c28-bf42-c6d690cc34e8",
   "metadata": {},
   "outputs": [],
   "source": []
  }
 ],
 "metadata": {
  "kernelspec": {
   "display_name": "Python 3 (ipykernel)",
   "language": "python",
   "name": "python3"
  },
  "language_info": {
   "codemirror_mode": {
    "name": "ipython",
    "version": 3
   },
   "file_extension": ".py",
   "mimetype": "text/x-python",
   "name": "python",
   "nbconvert_exporter": "python",
   "pygments_lexer": "ipython3",
   "version": "3.13.3"
  }
 },
 "nbformat": 4,
 "nbformat_minor": 5
}
